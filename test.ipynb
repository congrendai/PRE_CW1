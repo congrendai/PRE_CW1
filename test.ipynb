{
 "cells": [
  {
   "cell_type": "code",
   "execution_count": 31,
   "metadata": {},
   "outputs": [],
   "source": [
    "import os\n",
    "import numpy as np\n",
    "from tensorflow.keras.models import load_model"
   ]
  },
  {
   "cell_type": "code",
   "execution_count": 32,
   "metadata": {},
   "outputs": [
    {
     "name": "stdout",
     "output_type": "stream",
     "text": [
      "/Users/congrendai/Desktop/King's/Pattern Recognition, Neural Networks, and Deep Learning/CW 1\n",
      "network_for_mnist.h5\n",
      "Model: \"sequential_27\"\n",
      "_________________________________________________________________\n",
      " Layer (type)                Output Shape              Param #   \n",
      "=================================================================\n",
      " conv2d_86 (Conv2D)          (None, 24, 24, 6)         156       \n",
      "                                                                 \n",
      " max_pooling2d_60 (MaxPoolin  (None, 12, 12, 6)        0         \n",
      " g2D)                                                            \n",
      "                                                                 \n",
      " conv2d_87 (Conv2D)          (None, 8, 8, 16)          2416      \n",
      "                                                                 \n",
      " max_pooling2d_61 (MaxPoolin  (None, 4, 4, 16)         0         \n",
      " g2D)                                                            \n",
      "                                                                 \n",
      " flatten_24 (Flatten)        (None, 256)               0         \n",
      "                                                                 \n",
      " dense_53 (Dense)            (None, 120)               30840     \n",
      "                                                                 \n",
      " dense_54 (Dense)            (None, 84)                10164     \n",
      "                                                                 \n",
      " dense_55 (Dense)            (None, 10)                850       \n",
      "                                                                 \n",
      "=================================================================\n",
      "Total params: 44,426\n",
      "Trainable params: 44,426\n",
      "Non-trainable params: 0\n",
      "_________________________________________________________________\n"
     ]
    }
   ],
   "source": [
    "#load .h5 file of arbitrary name for testing (last if more than one)\n",
    "print(os.getcwd())\n",
    "for file in os.listdir(os.getcwd()):\n",
    "    if file.endswith(\".h5\"):\n",
    "        print(file)\n",
    "        net=load_model(file)\n",
    "net.summary()"
   ]
  },
  {
   "cell_type": "code",
   "execution_count": 33,
   "metadata": {},
   "outputs": [],
   "source": [
    "#determine what type of network this is\n",
    "conf = net.layers[0].get_config()\n",
    "inshape = conf['batch_input_shape']\n",
    "if inshape[1] == 28:\n",
    "    netType='CNN'\n",
    "else:\n",
    "    netType='MLP'"
   ]
  },
  {
   "cell_type": "code",
   "execution_count": 34,
   "metadata": {},
   "outputs": [],
   "source": [
    "#test with MNIST data\n",
    "from keras.datasets import mnist\n",
    "\n",
    "(x_train, labels_train), (x_test, labels_test) = mnist.load_data()\n",
    "x_test = x_test.astype('float32')\n",
    "x_test /= 255\n",
    "if netType in ['MLP']:\n",
    "    x_test = x_test.reshape(10000, 784)\n",
    "else:\n",
    "    x_test = x_test.reshape(x_test.shape[0], 28, 28, 1)"
   ]
  },
  {
   "cell_type": "code",
   "execution_count": 35,
   "metadata": {},
   "outputs": [
    {
     "name": "stderr",
     "output_type": "stream",
     "text": [
      "2023-02-20 13:01:01.359909: I tensorflow/core/grappler/optimizers/custom_graph_optimizer_registry.cc:113] Plugin optimizer for device_type GPU is enabled.\n"
     ]
    },
    {
     "name": "stdout",
     "output_type": "stream",
     "text": [
      "313/313 [==============================] - 1s 3ms/step\n",
      "Percentage correctly classified MNIST= 99.02\n"
     ]
    }
   ],
   "source": [
    "outputs=net.predict(x_test)\n",
    "labels_predicted=np.argmax(outputs, axis=1)\n",
    "correct_classified=sum(labels_predicted==labels_test)\n",
    "print(\"Percentage correctly classified MNIST=\", 100*correct_classified/labels_test.size)"
   ]
  }
 ],
 "metadata": {
  "kernelspec": {
   "display_name": "base",
   "language": "python",
   "name": "python3"
  },
  "language_info": {
   "codemirror_mode": {
    "name": "ipython",
    "version": 3
   },
   "file_extension": ".py",
   "mimetype": "text/x-python",
   "name": "python",
   "nbconvert_exporter": "python",
   "pygments_lexer": "ipython3",
   "version": "3.10.9"
  },
  "orig_nbformat": 4,
  "vscode": {
   "interpreter": {
    "hash": "26da2b8cabb3f0bd9b864593b26ef531e27bad1ea8c7696591d11b0b7428a333"
   }
  }
 },
 "nbformat": 4,
 "nbformat_minor": 2
}
