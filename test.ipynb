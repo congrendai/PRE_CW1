{
 "cells": [
  {
   "cell_type": "code",
   "execution_count": 162,
   "metadata": {},
   "outputs": [],
   "source": [
    "import os\n",
    "import numpy as np\n",
    "from tensorflow.keras.models import load_model"
   ]
  },
  {
   "cell_type": "code",
   "execution_count": 163,
   "metadata": {},
   "outputs": [
    {
     "name": "stdout",
     "output_type": "stream",
     "text": [
      "/Users/congrendai/Desktop/King's/Pattern Recognition, Neural Networks, and Deep Learning/CW1\n",
      "network_for_mnist.h5\n",
      "Model: \"sequential_64\"\n",
      "_________________________________________________________________\n",
      " Layer (type)                Output Shape              Param #   \n",
      "=================================================================\n",
      " conv2d_251 (Conv2D)         (None, 26, 26, 32)        320       \n",
      "                                                                 \n",
      " conv2d_252 (Conv2D)         (None, 24, 24, 64)        18496     \n",
      "                                                                 \n",
      " max_pooling2d_137 (MaxPooli  (None, 12, 12, 64)       0         \n",
      " ng2D)                                                           \n",
      "                                                                 \n",
      " batch_normalization_182 (Ba  (None, 12, 12, 64)       256       \n",
      " tchNormalization)                                               \n",
      "                                                                 \n",
      " conv2d_253 (Conv2D)         (None, 10, 10, 128)       73856     \n",
      "                                                                 \n",
      " conv2d_254 (Conv2D)         (None, 8, 8, 256)         295168    \n",
      "                                                                 \n",
      " max_pooling2d_138 (MaxPooli  (None, 4, 4, 256)        0         \n",
      " ng2D)                                                           \n",
      "                                                                 \n",
      " batch_normalization_183 (Ba  (None, 4, 4, 256)        1024      \n",
      " tchNormalization)                                               \n",
      "                                                                 \n",
      " conv2d_255 (Conv2D)         (None, 3, 3, 512)         524800    \n",
      "                                                                 \n",
      " max_pooling2d_139 (MaxPooli  (None, 1, 1, 512)        0         \n",
      " ng2D)                                                           \n",
      "                                                                 \n",
      " batch_normalization_184 (Ba  (None, 1, 1, 512)        2048      \n",
      " tchNormalization)                                               \n",
      "                                                                 \n",
      " flatten_57 (Flatten)        (None, 512)               0         \n",
      "                                                                 \n",
      " dense_163 (Dense)           (None, 512)               262656    \n",
      "                                                                 \n",
      " dropout_147 (Dropout)       (None, 512)               0         \n",
      "                                                                 \n",
      " dense_164 (Dense)           (None, 256)               131328    \n",
      "                                                                 \n",
      " dropout_148 (Dropout)       (None, 256)               0         \n",
      "                                                                 \n",
      " dense_165 (Dense)           (None, 128)               32896     \n",
      "                                                                 \n",
      " dropout_149 (Dropout)       (None, 128)               0         \n",
      "                                                                 \n",
      " dense_166 (Dense)           (None, 10)                1290      \n",
      "                                                                 \n",
      "=================================================================\n",
      "Total params: 1,344,138\n",
      "Trainable params: 1,342,474\n",
      "Non-trainable params: 1,664\n",
      "_________________________________________________________________\n"
     ]
    }
   ],
   "source": [
    "#load .h5 file of arbitrary name for testing (last if more than one)\n",
    "print(os.getcwd())\n",
    "for file in os.listdir(os.getcwd()):\n",
    "    if file.endswith(\".h5\"):\n",
    "        print(file)\n",
    "        model=load_model(file)\n",
    "model.summary()"
   ]
  },
  {
   "cell_type": "code",
   "execution_count": 164,
   "metadata": {},
   "outputs": [],
   "source": [
    "#determine what type of network this is\n",
    "conf = model.layers[0].get_config()\n",
    "inshape = conf['batch_input_shape']\n",
    "if inshape[1] == 28:\n",
    "    netType='CNN'\n",
    "else:\n",
    "    netType='MLP'"
   ]
  },
  {
   "cell_type": "code",
   "execution_count": 165,
   "metadata": {},
   "outputs": [],
   "source": [
    "#test with MNIST data\n",
    "from keras.datasets import mnist\n",
    "\n",
    "(x_train, labels_train), (x_test, labels_test) = mnist.load_data()\n",
    "x_test = x_test.astype('float32')\n",
    "x_test /= 255\n",
    "if netType in ['MLP']:\n",
    "    x_test = x_test.reshape(10000, 784)\n",
    "else:\n",
    "    x_test = x_test.reshape(x_test.shape[0], 28, 28, 1)"
   ]
  },
  {
   "cell_type": "code",
   "execution_count": 166,
   "metadata": {},
   "outputs": [
    {
     "name": "stderr",
     "output_type": "stream",
     "text": [
      "2023-02-21 04:34:59.613200: I tensorflow/core/grappler/optimizers/custom_graph_optimizer_registry.cc:113] Plugin optimizer for device_type GPU is enabled.\n"
     ]
    },
    {
     "name": "stdout",
     "output_type": "stream",
     "text": [
      "313/313 [==============================] - 2s 7ms/step\n",
      "Percentage correctly classified MNIST= 98.93\n"
     ]
    }
   ],
   "source": [
    "outputs=model.predict(x_test)\n",
    "labels_predicted=np.argmax(outputs, axis=1)\n",
    "correct_classified=sum(labels_predicted==labels_test)\n",
    "print(\"Percentage correctly classified MNIST=\", 100*correct_classified/labels_test.size)"
   ]
  },
  {
   "cell_type": "code",
   "execution_count": 167,
   "metadata": {},
   "outputs": [
    {
     "name": "stdout",
     "output_type": "stream",
     "text": [
      "313/313 [==============================] - 2s 7ms/step\n",
      "              precision    recall  f1-score   support\n",
      "\n",
      "           0       0.98      1.00      0.99       980\n",
      "           1       1.00      0.98      0.99      1135\n",
      "           2       0.97      1.00      0.98      1032\n",
      "           3       1.00      0.99      1.00      1010\n",
      "           4       0.99      0.99      0.99       982\n",
      "           5       0.98      1.00      0.99       892\n",
      "           6       0.99      1.00      0.99       958\n",
      "           7       0.99      0.98      0.99      1028\n",
      "           8       0.99      0.99      0.99       974\n",
      "           9       1.00      0.97      0.98      1009\n",
      "\n",
      "    accuracy                           0.99     10000\n",
      "   macro avg       0.99      0.99      0.99     10000\n",
      "weighted avg       0.99      0.99      0.99     10000\n",
      "\n"
     ]
    }
   ],
   "source": [
    "from sklearn.metrics import classification_report\n",
    "\n",
    "y_pred = model.predict(x_test)\n",
    "y_pred_classes = np.argmax(y_pred, axis=1)\n",
    "print(classification_report(labels_test, y_pred_classes))"
   ]
  },
  {
   "cell_type": "code",
   "execution_count": 168,
   "metadata": {},
   "outputs": [
    {
     "data": {
      "image/png": "[encoded data removed]",
      "text/plain": [
       "<Figure size 640x480 with 2 Axes>"
      ]
     },
     "metadata": {},
     "output_type": "display_data"
    }
   ],
   "source": [
    "import seaborn as sns\n",
    "from matplotlib import pyplot as plt\n",
    "from sklearn.metrics import confusion_matrix\n",
    "\n",
    "cm = confusion_matrix(labels_test, y_pred_classes)\n",
    "sns.heatmap(cm, annot=True, fmt='d', cmap='Blues')\n",
    "plt.show()"
   ]
  }
 ],
 "metadata": {
  "kernelspec": {
   "display_name": "base",
   "language": "python",
   "name": "python3"
  },
  "language_info": {
   "codemirror_mode": {
    "name": "ipython",
    "version": 3
   },
   "file_extension": ".py",
   "mimetype": "text/x-python",
   "name": "python",
   "nbconvert_exporter": "python",
   "pygments_lexer": "ipython3",
   "version": "3.10.9"
  },
  "orig_nbformat": 4,
  "vscode": {
   "interpreter": {
    "hash": "26da2b8cabb3f0bd9b864593b26ef531e27bad1ea8c7696591d11b0b7428a333"
   }
  }
 },
 "nbformat": 4,
 "nbformat_minor": 2
}
