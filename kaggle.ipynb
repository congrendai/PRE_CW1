{
 "cells": [
  {
   "cell_type": "code",
   "execution_count": 27,
   "metadata": {},
   "outputs": [],
   "source": [
    "import os\n",
    "import numpy as np\n",
    "import pandas as pd\n",
    "from matplotlib import pyplot as plt\n",
    "from tensorflow.keras.models import load_model"
   ]
  },
  {
   "cell_type": "code",
   "execution_count": 28,
   "metadata": {},
   "outputs": [],
   "source": [
    "data = pd.read_csv('./digit-recognizer/test.csv')"
   ]
  },
  {
   "cell_type": "code",
   "execution_count": 29,
   "metadata": {},
   "outputs": [
    {
     "data": {
      "text/plain": [
       "(28000, 28, 28, 1)"
      ]
     },
     "execution_count": 29,
     "metadata": {},
     "output_type": "execute_result"
    }
   ],
   "source": [
    "len(data)\n",
    "\n",
    "x_test = np.zeros((len(data), 28, 28, 1))\n",
    "for i in range(len(data)):\n",
    "    x_test[i] = data.loc[i].values.reshape(28, 28, 1) / 255\n",
    "\n",
    "x_test.shape"
   ]
  },
  {
   "cell_type": "code",
   "execution_count": 30,
   "metadata": {},
   "outputs": [
    {
     "name": "stdout",
     "output_type": "stream",
     "text": [
      "/Users/congrendai/Desktop/King's/Pattern Recognition, Neural Networks, and Deep Learning/CW1\n",
      "network_for_mnist.h5\n",
      "Model: \"sequential_45\"\n",
      "_________________________________________________________________\n",
      " Layer (type)                Output Shape              Param #   \n",
      "=================================================================\n",
      " conv2d_168 (Conv2D)         (None, 26, 26, 32)        320       \n",
      "                                                                 \n",
      " conv2d_169 (Conv2D)         (None, 24, 24, 64)        18496     \n",
      "                                                                 \n",
      " max_pooling2d_99 (MaxPoolin  (None, 12, 12, 64)       0         \n",
      " g2D)                                                            \n",
      "                                                                 \n",
      " batch_normalization_137 (Ba  (None, 12, 12, 64)       256       \n",
      " tchNormalization)                                               \n",
      "                                                                 \n",
      " dropout_81 (Dropout)        (None, 12, 12, 64)        0         \n",
      "                                                                 \n",
      " conv2d_170 (Conv2D)         (None, 10, 10, 128)       73856     \n",
      "                                                                 \n",
      " conv2d_171 (Conv2D)         (None, 8, 8, 256)         295168    \n",
      "                                                                 \n",
      " max_pooling2d_100 (MaxPooli  (None, 4, 4, 256)        0         \n",
      " ng2D)                                                           \n",
      "                                                                 \n",
      " batch_normalization_138 (Ba  (None, 4, 4, 256)        1024      \n",
      " tchNormalization)                                               \n",
      "                                                                 \n",
      " dropout_82 (Dropout)        (None, 4, 4, 256)         0         \n",
      "                                                                 \n",
      " flatten_38 (Flatten)        (None, 4096)              0         \n",
      "                                                                 \n",
      " dense_103 (Dense)           (None, 512)               2097664   \n",
      "                                                                 \n",
      " dropout_83 (Dropout)        (None, 512)               0         \n",
      "                                                                 \n",
      " dense_104 (Dense)           (None, 256)               131328    \n",
      "                                                                 \n",
      " dropout_84 (Dropout)        (None, 256)               0         \n",
      "                                                                 \n",
      " dense_105 (Dense)           (None, 10)                2570      \n",
      "                                                                 \n",
      "=================================================================\n",
      "Total params: 2,620,682\n",
      "Trainable params: 2,620,042\n",
      "Non-trainable params: 640\n",
      "_________________________________________________________________\n"
     ]
    }
   ],
   "source": [
    "print(os.getcwd())\n",
    "for file in os.listdir(os.getcwd()):\n",
    "    if file.endswith(\".h5\"):\n",
    "        print(file)\n",
    "        model=load_model(file)\n",
    "model.summary()"
   ]
  },
  {
   "cell_type": "code",
   "execution_count": 31,
   "metadata": {},
   "outputs": [
    {
     "name": "stdout",
     "output_type": "stream",
     "text": [
      " 13/875 [..............................] - ETA: 7s "
     ]
    },
    {
     "name": "stderr",
     "output_type": "stream",
     "text": [
      "2023-02-21 03:25:16.510954: I tensorflow/core/grappler/optimizers/custom_graph_optimizer_registry.cc:113] Plugin optimizer for device_type GPU is enabled.\n"
     ]
    },
    {
     "name": "stdout",
     "output_type": "stream",
     "text": [
      "875/875 [==============================] - 5s 6ms/step\n"
     ]
    }
   ],
   "source": [
    "outputs=model.predict(x_test)\n",
    "labels_predicted=np.argmax(outputs, axis=1)"
   ]
  },
  {
   "cell_type": "code",
   "execution_count": 32,
   "metadata": {},
   "outputs": [],
   "source": [
    "predictions = pd.DataFrame({'ImageId': range(1, len(labels_predicted)+1), 'Label': labels_predicted})\n",
    "predictions.to_csv('submission.csv', index=False)"
   ]
  }
 ],
 "metadata": {
  "kernelspec": {
   "display_name": "base",
   "language": "python",
   "name": "python3"
  },
  "language_info": {
   "codemirror_mode": {
    "name": "ipython",
    "version": 3
   },
   "file_extension": ".py",
   "mimetype": "text/x-python",
   "name": "python",
   "nbconvert_exporter": "python",
   "pygments_lexer": "ipython3",
   "version": "3.10.9"
  },
  "orig_nbformat": 4,
  "vscode": {
   "interpreter": {
    "hash": "26da2b8cabb3f0bd9b864593b26ef531e27bad1ea8c7696591d11b0b7428a333"
   }
  }
 },
 "nbformat": 4,
 "nbformat_minor": 2
}
