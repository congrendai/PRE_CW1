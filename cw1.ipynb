{
 "cells": [
  {
   "cell_type": "code",
   "execution_count": 1,
   "metadata": {},
   "outputs": [],
   "source": [
    "import keras\n",
    "import numpy as np\n",
    "import tensorflow as tf\n",
    "from keras.datasets import mnist\n",
    "from matplotlib import pyplot as plt"
   ]
  },
  {
   "cell_type": "code",
   "execution_count": 2,
   "metadata": {},
   "outputs": [],
   "source": [
    "(x_train, labels_train), (x_test, labels_test) = mnist.load_data()"
   ]
  },
  {
   "cell_type": "code",
   "execution_count": 3,
   "metadata": {},
   "outputs": [
    {
     "data": {
      "text/plain": [
       "5"
      ]
     },
     "execution_count": 3,
     "metadata": {},
     "output_type": "execute_result"
    },
    {
     "data": {
      "image/png": "[encoded data removed]",
      "text/plain": [
       "<Figure size 640x480 with 1 Axes>"
      ]
     },
     "metadata": {},
     "output_type": "display_data"
    }
   ],
   "source": [
    "plt.imshow(x_train[0])\n",
    "labels_train[0]"
   ]
  },
  {
   "cell_type": "code",
   "execution_count": 4,
   "metadata": {},
   "outputs": [
    {
     "data": {
      "text/plain": [
       "(60000, 28, 28)"
      ]
     },
     "execution_count": 4,
     "metadata": {},
     "output_type": "execute_result"
    }
   ],
   "source": [
    "x_train = x_train.astype('float32') / 255\n",
    "x_test = x_test.astype('float32') / 255\n",
    "x_train.shape"
   ]
  },
  {
   "attachments": {},
   "cell_type": "markdown",
   "metadata": {},
   "source": [
    "# Reshape the data to fit the model"
   ]
  },
  {
   "cell_type": "code",
   "execution_count": 5,
   "metadata": {},
   "outputs": [],
   "source": [
    "x_train = x_train.reshape(x_train.shape[0], 28, 28, 1)\n",
    "x_test = x_test.reshape(x_test.shape[0], 28, 28, 1)"
   ]
  },
  {
   "cell_type": "markdown",
   "metadata": {},
   "source": [
    "# One-hot encoding"
   ]
  },
  {
   "cell_type": "code",
   "execution_count": 6,
   "metadata": {},
   "outputs": [],
   "source": [
    "from keras.utils import to_categorical\n",
    "y_train = to_categorical(labels_train, 10)\n",
    "y_test = to_categorical(labels_test, 10)"
   ]
  },
  {
   "attachments": {},
   "cell_type": "markdown",
   "metadata": {},
   "source": [
    "# Data augmentation"
   ]
  },
  {
   "cell_type": "code",
   "execution_count": 7,
   "metadata": {},
   "outputs": [],
   "source": [
    "from keras.preprocessing.image import ImageDataGenerator\n",
    "datagen = ImageDataGenerator(\n",
    "    rotation_range=20, \n",
    "    width_shift_range=0.1, \n",
    "    height_shift_range=0.1, \n",
    "    zoom_range=0.1,\n",
    "    horizontal_flip=False,\n",
    "    vertical_flip=False,\n",
    "    fill_mode='nearest')"
   ]
  },
  {
   "attachments": {},
   "cell_type": "markdown",
   "metadata": {},
   "source": [
    "# Define the CNN model"
   ]
  },
  {
   "cell_type": "code",
   "execution_count": 8,
   "metadata": {},
   "outputs": [
    {
     "name": "stdout",
     "output_type": "stream",
     "text": [
      "Metal device set to: Apple M1 Pro\n",
      "\n",
      "systemMemory: 16.00 GB\n",
      "maxCacheSize: 5.33 GB\n",
      "\n",
      "Model: \"sequential\"\n",
      "_________________________________________________________________\n",
      " Layer (type)                Output Shape              Param #   \n",
      "=================================================================\n",
      " conv2d (Conv2D)             (None, 24, 24, 32)        832       \n",
      "                                                                 \n",
      " batch_normalization (BatchN  (None, 24, 24, 32)       128       \n",
      " ormalization)                                                   \n",
      "                                                                 \n",
      " max_pooling2d (MaxPooling2D  (None, 12, 12, 32)       0         \n",
      " )                                                               \n",
      "                                                                 \n",
      " conv2d_1 (Conv2D)           (None, 8, 8, 64)          51264     \n",
      "                                                                 \n",
      " batch_normalization_1 (Batc  (None, 8, 8, 64)         256       \n",
      " hNormalization)                                                 \n",
      "                                                                 \n",
      " max_pooling2d_1 (MaxPooling  (None, 4, 4, 64)         0         \n",
      " 2D)                                                             \n",
      "                                                                 \n",
      " flatten (Flatten)           (None, 1024)              0         \n",
      "                                                                 \n",
      " dense (Dense)               (None, 256)               262400    \n",
      "                                                                 \n",
      " batch_normalization_2 (Batc  (None, 256)              1024      \n",
      " hNormalization)                                                 \n",
      "                                                                 \n",
      " dropout (Dropout)           (None, 256)               0         \n",
      "                                                                 \n",
      " dense_1 (Dense)             (None, 128)               32896     \n",
      "                                                                 \n",
      " batch_normalization_3 (Batc  (None, 128)              512       \n",
      " hNormalization)                                                 \n",
      "                                                                 \n",
      " dropout_1 (Dropout)         (None, 128)               0         \n",
      "                                                                 \n",
      " dense_2 (Dense)             (None, 10)                1290      \n",
      "                                                                 \n",
      "=================================================================\n",
      "Total params: 350,602\n",
      "Trainable params: 349,642\n",
      "Non-trainable params: 960\n",
      "_________________________________________________________________\n"
     ]
    },
    {
     "name": "stderr",
     "output_type": "stream",
     "text": [
      "2023-02-20 13:08:38.367447: I tensorflow/core/common_runtime/pluggable_device/pluggable_device_factory.cc:305] Could not identify NUMA node of platform GPU ID 0, defaulting to 0. Your kernel may not have been built with NUMA support.\n",
      "2023-02-20 13:08:38.367564: I tensorflow/core/common_runtime/pluggable_device/pluggable_device_factory.cc:271] Created TensorFlow device (/job:localhost/replica:0/task:0/device:GPU:0 with 0 MB memory) -> physical PluggableDevice (device: 0, name: METAL, pci bus id: <undefined>)\n"
     ]
    }
   ],
   "source": [
    "from keras.models import Sequential\n",
    "from keras.layers import Conv2D, MaxPooling2D, Dense, Flatten, BatchNormalization, Dropout\n",
    "model = Sequential()\n",
    "\n",
    "model.add(Conv2D(32, (5, 5), activation='relu', input_shape=(28, 28, 1)))\n",
    "model.add(BatchNormalization())\n",
    "model.add(MaxPooling2D((2, 2)))\n",
    "model.add(Conv2D(64, (5, 5), activation='relu'))\n",
    "model.add(BatchNormalization())\n",
    "model.add(MaxPooling2D((2, 2)))\n",
    "model.add(Flatten())\n",
    "model.add(Dense(256, activation='relu'))\n",
    "model.add(BatchNormalization())\n",
    "model.add(Dropout(0.5))\n",
    "model.add(Dense(128, activation='relu'))\n",
    "model.add(BatchNormalization())\n",
    "model.add(Dropout(0.5))\n",
    "model.add(Dense(10, activation='softmax'))\n",
    "\n",
    "model.summary()"
   ]
  },
  {
   "cell_type": "code",
   "execution_count": 9,
   "metadata": {},
   "outputs": [],
   "source": [
    "model.compile(loss=\"categorical_crossentropy\", optimizer=\"adam\", metrics=['accuracy'])"
   ]
  },
  {
   "cell_type": "markdown",
   "metadata": {},
   "source": [
    "# K-fold cross-validation"
   ]
  },
  {
   "cell_type": "code",
   "execution_count": 10,
   "metadata": {},
   "outputs": [],
   "source": [
    "def scheduler(epoch, lr):\n",
    "    if epoch < 5:\n",
    "        return lr\n",
    "    else:\n",
    "        return lr * 0.1"
   ]
  },
  {
   "cell_type": "code",
   "execution_count": 11,
   "metadata": {},
   "outputs": [],
   "source": [
    "from sklearn.model_selection import KFold\n",
    "kfold = KFold(n_splits=5, shuffle=True)"
   ]
  },
  {
   "cell_type": "code",
   "execution_count": 12,
   "metadata": {},
   "outputs": [
    {
     "name": "stdout",
     "output_type": "stream",
     "text": [
      "Fold: 1\n",
      "Epoch 1/10\n"
     ]
    },
    {
     "name": "stderr",
     "output_type": "stream",
     "text": [
      "2023-02-20 13:08:39.089947: W tensorflow/core/platform/profile_utils/cpu_utils.cc:128] Failed to get CPU frequency: 0 Hz\n",
      "2023-02-20 13:08:39.442032: I tensorflow/core/grappler/optimizers/custom_graph_optimizer_registry.cc:113] Plugin optimizer for device_type GPU is enabled.\n"
     ]
    },
    {
     "name": "stdout",
     "output_type": "stream",
     "text": [
      "93/94 [============================>.] - ETA: 0s - loss: 0.8502 - accuracy: 0.7349"
     ]
    },
    {
     "name": "stderr",
     "output_type": "stream",
     "text": [
      "2023-02-20 13:08:45.065096: I tensorflow/core/grappler/optimizers/custom_graph_optimizer_registry.cc:113] Plugin optimizer for device_type GPU is enabled.\n"
     ]
    },
    {
     "name": "stdout",
     "output_type": "stream",
     "text": [
      "94/94 [==============================] - 9s 81ms/step - loss: 0.8448 - accuracy: 0.7365 - val_loss: 2.5315 - val_accuracy: 0.1196 - lr: 0.0010\n",
      "Epoch 2/10\n",
      "94/94 [==============================] - 7s 75ms/step - loss: 0.2503 - accuracy: 0.9246 - val_loss: 3.3066 - val_accuracy: 0.1167 - lr: 0.0010\n",
      "Epoch 3/10\n",
      "94/94 [==============================] - 7s 73ms/step - loss: 0.1693 - accuracy: 0.9489 - val_loss: 2.5100 - val_accuracy: 0.2215 - lr: 0.0010\n",
      "Epoch 4/10\n",
      "94/94 [==============================] - 7s 74ms/step - loss: 0.1309 - accuracy: 0.9608 - val_loss: 0.7652 - val_accuracy: 0.7377 - lr: 0.0010\n",
      "Epoch 5/10\n",
      "94/94 [==============================] - 7s 71ms/step - loss: 0.1129 - accuracy: 0.9658 - val_loss: 0.1522 - val_accuracy: 0.9560 - lr: 0.0010\n",
      "Epoch 6/10\n",
      "94/94 [==============================] - 7s 71ms/step - loss: 0.0953 - accuracy: 0.9724 - val_loss: 0.0557 - val_accuracy: 0.9839 - lr: 1.0000e-04\n",
      "Epoch 7/10\n",
      "94/94 [==============================] - 7s 71ms/step - loss: 0.0895 - accuracy: 0.9736 - val_loss: 0.0371 - val_accuracy: 0.9885 - lr: 1.0000e-05\n",
      "Epoch 8/10\n",
      "94/94 [==============================] - 7s 71ms/step - loss: 0.0882 - accuracy: 0.9738 - val_loss: 0.0350 - val_accuracy: 0.9890 - lr: 1.0000e-06\n",
      "Epoch 9/10\n",
      "94/94 [==============================] - 7s 71ms/step - loss: 0.0905 - accuracy: 0.9734 - val_loss: 0.0361 - val_accuracy: 0.9884 - lr: 1.0000e-07\n",
      "Epoch 10/10\n",
      "94/94 [==============================] - 7s 74ms/step - loss: 0.0891 - accuracy: 0.9745 - val_loss: 0.0371 - val_accuracy: 0.9880 - lr: 1.0000e-08\n"
     ]
    },
    {
     "name": "stderr",
     "output_type": "stream",
     "text": [
      "2023-02-20 13:09:49.922337: I tensorflow/core/grappler/optimizers/custom_graph_optimizer_registry.cc:113] Plugin optimizer for device_type GPU is enabled.\n"
     ]
    },
    {
     "name": "stdout",
     "output_type": "stream",
     "text": [
      " 30/313 [=>............................] - ETA: 1s"
     ]
    },
    {
     "name": "stderr",
     "output_type": "stream",
     "text": [
      "2023-02-20 13:09:52.993986: I tensorflow/core/grappler/optimizers/custom_graph_optimizer_registry.cc:113] Plugin optimizer for device_type GPU is enabled.\n"
     ]
    },
    {
     "name": "stdout",
     "output_type": "stream",
     "text": [
      "313/313 [==============================] - 1s 4ms/step\n",
      "Accuracy: 0.9899000525474548\n",
      "Loss: 0.030556349083781242\n",
      "Precision: 0.9897834865105584\n",
      "Recall: 0.9900164025184068\n",
      "F1-score: 0.9898832496860004\n",
      "Fold: 2\n",
      "Epoch 1/10\n",
      "94/94 [==============================] - 7s 73ms/step - loss: 0.0907 - accuracy: 0.9728 - val_loss: 0.0381 - val_accuracy: 0.9887 - lr: 1.0000e-08\n",
      "Epoch 2/10\n",
      "94/94 [==============================] - 7s 73ms/step - loss: 0.0903 - accuracy: 0.9735 - val_loss: 0.0383 - val_accuracy: 0.9888 - lr: 1.0000e-08\n",
      "Epoch 3/10\n",
      "94/94 [==============================] - 7s 74ms/step - loss: 0.0903 - accuracy: 0.9739 - val_loss: 0.0383 - val_accuracy: 0.9887 - lr: 1.0000e-08\n",
      "Epoch 4/10\n",
      "94/94 [==============================] - 7s 73ms/step - loss: 0.0908 - accuracy: 0.9731 - val_loss: 0.0384 - val_accuracy: 0.9887 - lr: 1.0000e-08\n",
      "Epoch 5/10\n",
      "94/94 [==============================] - 7s 74ms/step - loss: 0.0860 - accuracy: 0.9747 - val_loss: 0.0384 - val_accuracy: 0.9887 - lr: 1.0000e-08\n",
      "Epoch 6/10\n",
      "94/94 [==============================] - 7s 74ms/step - loss: 0.0888 - accuracy: 0.9734 - val_loss: 0.0385 - val_accuracy: 0.9887 - lr: 1.0000e-09\n",
      "313/313 [==============================] - 1s 3ms/step\n",
      "Accuracy: 0.9897000193595886\n",
      "Loss: 0.03142077475786209\n",
      "Precision: 0.9895764518499084\n",
      "Recall: 0.9898493934771905\n",
      "F1-score: 0.9896914952672479\n",
      "Fold: 3\n",
      "Epoch 1/10\n",
      "94/94 [==============================] - 7s 74ms/step - loss: 0.0900 - accuracy: 0.9741 - val_loss: 0.0386 - val_accuracy: 0.9883 - lr: 1.0000e-09\n",
      "Epoch 2/10\n",
      "94/94 [==============================] - 7s 75ms/step - loss: 0.0910 - accuracy: 0.9732 - val_loss: 0.0386 - val_accuracy: 0.9883 - lr: 1.0000e-09\n",
      "Epoch 3/10\n",
      "94/94 [==============================] - 7s 74ms/step - loss: 0.0909 - accuracy: 0.9739 - val_loss: 0.0387 - val_accuracy: 0.9883 - lr: 1.0000e-09\n",
      "Epoch 4/10\n",
      "94/94 [==============================] - 7s 74ms/step - loss: 0.0907 - accuracy: 0.9731 - val_loss: 0.0386 - val_accuracy: 0.9883 - lr: 1.0000e-09\n",
      "Epoch 5/10\n",
      "94/94 [==============================] - 7s 74ms/step - loss: 0.0890 - accuracy: 0.9735 - val_loss: 0.0387 - val_accuracy: 0.9883 - lr: 1.0000e-09\n",
      "Epoch 6/10\n",
      "94/94 [==============================] - 7s 73ms/step - loss: 0.0889 - accuracy: 0.9743 - val_loss: 0.0386 - val_accuracy: 0.9883 - lr: 1.0000e-10\n",
      "313/313 [==============================] - 1s 3ms/step\n",
      "Accuracy: 0.9897000193595886\n",
      "Loss: 0.0315505675971508\n",
      "Precision: 0.9895764518499084\n",
      "Recall: 0.9898493934771905\n",
      "F1-score: 0.9896914952672479\n",
      "Fold: 4\n",
      "Epoch 1/10\n",
      "94/94 [==============================] - 7s 76ms/step - loss: 0.0931 - accuracy: 0.9731 - val_loss: 0.0319 - val_accuracy: 0.9900 - lr: 1.0000e-10\n",
      "Epoch 2/10\n",
      "94/94 [==============================] - 7s 74ms/step - loss: 0.0902 - accuracy: 0.9730 - val_loss: 0.0318 - val_accuracy: 0.9901 - lr: 1.0000e-10\n",
      "Epoch 3/10\n",
      "94/94 [==============================] - 7s 74ms/step - loss: 0.0917 - accuracy: 0.9729 - val_loss: 0.0319 - val_accuracy: 0.9900 - lr: 1.0000e-10\n",
      "Epoch 4/10\n",
      "94/94 [==============================] - 7s 75ms/step - loss: 0.0908 - accuracy: 0.9725 - val_loss: 0.0318 - val_accuracy: 0.9901 - lr: 1.0000e-10\n",
      "Epoch 5/10\n",
      "94/94 [==============================] - 7s 74ms/step - loss: 0.0891 - accuracy: 0.9734 - val_loss: 0.0319 - val_accuracy: 0.9900 - lr: 1.0000e-10\n",
      "Epoch 6/10\n",
      "94/94 [==============================] - 7s 75ms/step - loss: 0.0916 - accuracy: 0.9734 - val_loss: 0.0318 - val_accuracy: 0.9901 - lr: 1.0000e-11\n",
      "Epoch 7/10\n",
      "94/94 [==============================] - 7s 73ms/step - loss: 0.0917 - accuracy: 0.9734 - val_loss: 0.0319 - val_accuracy: 0.9900 - lr: 1.0000e-12\n",
      "Epoch 8/10\n",
      "94/94 [==============================] - 7s 73ms/step - loss: 0.0893 - accuracy: 0.9734 - val_loss: 0.0319 - val_accuracy: 0.9899 - lr: 1.0000e-13\n",
      "Epoch 9/10\n",
      "94/94 [==============================] - 7s 74ms/step - loss: 0.0891 - accuracy: 0.9735 - val_loss: 0.0319 - val_accuracy: 0.9900 - lr: 1.0000e-14\n",
      "313/313 [==============================] - 1s 4ms/step\n",
      "Accuracy: 0.9898000359535217\n",
      "Loss: 0.0316111296415329\n",
      "Precision: 0.9896776157777751\n",
      "Recall: 0.989953777610802\n",
      "F1-score: 0.9897944206949987\n",
      "Fold: 5\n",
      "Epoch 1/10\n",
      "94/94 [==============================] - 7s 75ms/step - loss: 0.0870 - accuracy: 0.9742 - val_loss: 0.0333 - val_accuracy: 0.9890 - lr: 1.0000e-14\n",
      "Epoch 2/10\n",
      "94/94 [==============================] - 7s 75ms/step - loss: 0.0905 - accuracy: 0.9739 - val_loss: 0.0333 - val_accuracy: 0.9890 - lr: 1.0000e-14\n",
      "Epoch 3/10\n",
      "94/94 [==============================] - 7s 75ms/step - loss: 0.0911 - accuracy: 0.9728 - val_loss: 0.0332 - val_accuracy: 0.9889 - lr: 1.0000e-14\n",
      "Epoch 4/10\n",
      "94/94 [==============================] - 7s 74ms/step - loss: 0.0908 - accuracy: 0.9739 - val_loss: 0.0332 - val_accuracy: 0.9889 - lr: 1.0000e-14\n",
      "Epoch 5/10\n",
      "94/94 [==============================] - 7s 75ms/step - loss: 0.0927 - accuracy: 0.9720 - val_loss: 0.0332 - val_accuracy: 0.9889 - lr: 1.0000e-14\n",
      "Epoch 6/10\n",
      "94/94 [==============================] - 7s 75ms/step - loss: 0.0853 - accuracy: 0.9753 - val_loss: 0.0332 - val_accuracy: 0.9890 - lr: 1.0000e-15\n",
      "Epoch 7/10\n",
      "94/94 [==============================] - 7s 75ms/step - loss: 0.0892 - accuracy: 0.9736 - val_loss: 0.0332 - val_accuracy: 0.9889 - lr: 1.0000e-16\n",
      "Epoch 8/10\n",
      "94/94 [==============================] - 7s 75ms/step - loss: 0.0876 - accuracy: 0.9733 - val_loss: 0.0332 - val_accuracy: 0.9889 - lr: 1.0000e-17\n",
      "Epoch 9/10\n",
      "94/94 [==============================] - 7s 74ms/step - loss: 0.0903 - accuracy: 0.9737 - val_loss: 0.0331 - val_accuracy: 0.9889 - lr: 1.0000e-18\n",
      "Epoch 10/10\n",
      "94/94 [==============================] - 7s 74ms/step - loss: 0.0903 - accuracy: 0.9740 - val_loss: 0.0331 - val_accuracy: 0.9889 - lr: 1.0000e-19\n",
      "313/313 [==============================] - 1s 3ms/step\n",
      "Accuracy: 0.9898000359535217\n",
      "Loss: 0.031415753066539764\n",
      "Precision: 0.9896802780020334\n",
      "Recall: 0.989951434293517\n",
      "F1-score: 0.9897945838709508\n",
      "Average accuracy: 0.9897800326347351\n",
      "Average loss: 0.03131091482937336\n",
      "Average precision: 0.9896588567980368\n",
      "Average recall: 0.9899240802754214\n",
      "Average F1-score: 0.9897710489572891\n"
     ]
    }
   ],
   "source": [
    "# Train and evaluate the model with k-fold cross-validation\n",
    "from sklearn.metrics import precision_score, f1_score, recall_score\n",
    "from keras.callbacks import EarlyStopping\n",
    "from keras.callbacks import LearningRateScheduler\n",
    "\n",
    "\n",
    "historys = []\n",
    "accuracies = []\n",
    "losses = []\n",
    "precisions = []\n",
    "f1_scores = []\n",
    "recalls = []\n",
    "\n",
    "for fold, (train_indices, val_indices) in enumerate(kfold.split(x_train)):\n",
    "    print('Fold:', fold+1)\n",
    "    x_train_fold = x_train[train_indices]\n",
    "    y_train_fold = y_train[train_indices]\n",
    "    x_val_fold = x_train[val_indices]\n",
    "    y_val_fold = y_train[val_indices]\n",
    "    \n",
    "    # Fit the model with data augmentation\n",
    "    history = model.fit(datagen.flow(x_train_fold, y_train_fold, batch_size=512),\n",
    "                        epochs=10,\n",
    "                        validation_data=(x_val_fold, y_val_fold),\n",
    "                        callbacks=[EarlyStopping(patience=5), LearningRateScheduler(scheduler)])\n",
    "    \n",
    "    historys.append(history)\n",
    "\n",
    "    # Evaluate the model on the test set\n",
    "    loss, accuracy = model.evaluate(x_test, y_test, verbose=0)\n",
    "    y_pred = np.argmax(model.predict(x_test), axis=1)\n",
    "    y_true = np.argmax(y_test, axis=1)\n",
    "    precision = precision_score(y_true, y_pred, average='macro')\n",
    "    recall = recall_score(y_true, y_pred, average='macro')\n",
    "    f1 = f1_score(y_true, y_pred, average='macro')\n",
    "\n",
    "    print('Accuracy:', accuracy)\n",
    "    print('Loss:', loss)\n",
    "    print('Precision:', precision)\n",
    "    print('Recall:', recall)\n",
    "    print('F1-score:', f1)\n",
    "\n",
    "    accuracies.append(accuracy)\n",
    "    losses.append(loss)\n",
    "    recalls.append(recall)\n",
    "    precisions.append(precision)\n",
    "    f1_scores.append(f1)\n",
    "\n",
    "print('Average accuracy:', np.mean(accuracies))\n",
    "print('Average loss:', np.mean(losses))\n",
    "print('Average precision:', np.mean(precisions))\n",
    "print('Average recall:', np.mean(recalls))\n",
    "print('Average F1-score:', np.mean(f1_scores))"
   ]
  },
  {
   "cell_type": "code",
   "execution_count": 13,
   "metadata": {},
   "outputs": [
    {
     "data": {
      "image/png": "[encoded data removed]",
      "text/plain": [
       "<Figure size 1200x400 with 2 Axes>"
      ]
     },
     "metadata": {},
     "output_type": "display_data"
    }
   ],
   "source": [
    "losses = [loss for history in historys for loss in history.history['loss']]\n",
    "val_losses = [val_loss for history in historys for val_loss in history.history['val_loss']]\n",
    "accuracies = [accuracy for history in historys for accuracy in history.history['accuracy']]\n",
    "val_accuracies = [val_accuracy for history in historys for val_accuracy in history.history['val_accuracy']]\n",
    "\n",
    "epochs = range(1, len(losses) + 1)\n",
    "\n",
    "plt.figure(figsize=(12, 4))\n",
    "plt.subplot(1, 2, 1)\n",
    "plt.plot(epochs, losses, 'b', label='Training loss')\n",
    "plt.plot(epochs, val_losses, 'r', label='Validation loss')\n",
    "plt.title('Training and validation loss')\n",
    "plt.legend()\n",
    "\n",
    "plt.subplot(1, 2, 2)\n",
    "plt.plot(epochs, accuracies, 'b', label='Training accuracy')\n",
    "plt.plot(epochs, val_accuracies, 'r', label='Validation accuracy')\n",
    "plt.title('Training and validation accuracy')\n",
    "plt.legend()\n",
    "\n",
    "plt.show()\n",
    "    "
   ]
  },
  {
   "cell_type": "code",
   "execution_count": 14,
   "metadata": {},
   "outputs": [],
   "source": [
    "model.save(\"network_for_mnist.h5\")"
   ]
  }
 ],
 "metadata": {
  "kernelspec": {
   "display_name": "base",
   "language": "python",
   "name": "python3"
  },
  "language_info": {
   "codemirror_mode": {
    "name": "ipython",
    "version": 3
   },
   "file_extension": ".py",
   "mimetype": "text/x-python",
   "name": "python",
   "nbconvert_exporter": "python",
   "pygments_lexer": "ipython3",
   "version": "3.10.9"
  },
  "orig_nbformat": 4,
  "vscode": {
   "interpreter": {
    "hash": "26da2b8cabb3f0bd9b864593b26ef531e27bad1ea8c7696591d11b0b7428a333"
   }
  }
 },
 "nbformat": 4,
 "nbformat_minor": 2
}
