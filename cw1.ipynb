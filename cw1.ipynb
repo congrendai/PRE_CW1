{
 "cells": [
  {
   "cell_type": "code",
   "execution_count": 308,
   "metadata": {},
   "outputs": [],
   "source": [
    "import keras\n",
    "import numpy as np\n",
    "import tensorflow as tf\n",
    "from keras.datasets import mnist\n",
    "from matplotlib import pyplot as plt"
   ]
  },
  {
   "cell_type": "code",
   "execution_count": 309,
   "metadata": {},
   "outputs": [],
   "source": [
    "(x_train, labels_train), (x_test, labels_test) = mnist.load_data()"
   ]
  },
  {
   "cell_type": "code",
   "execution_count": 310,
   "metadata": {},
   "outputs": [
    {
     "data": {
      "text/plain": [
       "5"
      ]
     },
     "execution_count": 310,
     "metadata": {},
     "output_type": "execute_result"
    },
    {
     "data": {
      "image/png": "[encoded data removed]",
      "text/plain": [
       "<Figure size 640x480 with 1 Axes>"
      ]
     },
     "metadata": {},
     "output_type": "display_data"
    }
   ],
   "source": [
    "plt.imshow(x_train[0])\n",
    "labels_train[0]"
   ]
  },
  {
   "cell_type": "code",
   "execution_count": 311,
   "metadata": {},
   "outputs": [
    {
     "data": {
      "text/plain": [
       "(60000, 28, 28)"
      ]
     },
     "execution_count": 311,
     "metadata": {},
     "output_type": "execute_result"
    }
   ],
   "source": [
    "x_train = x_train.astype('float32') / 255\n",
    "x_test = x_test.astype('float32') / 255\n",
    "x_train.shape"
   ]
  },
  {
   "attachments": {},
   "cell_type": "markdown",
   "metadata": {},
   "source": [
    "# Reshape the data to fit the model"
   ]
  },
  {
   "cell_type": "code",
   "execution_count": 312,
   "metadata": {},
   "outputs": [],
   "source": [
    "x_train = x_train.reshape(x_train.shape[0], 28, 28, 1)\n",
    "x_test = x_test.reshape(x_test.shape[0], 28, 28, 1)"
   ]
  },
  {
   "cell_type": "markdown",
   "metadata": {},
   "source": [
    "# One-hot encoding"
   ]
  },
  {
   "cell_type": "code",
   "execution_count": 313,
   "metadata": {},
   "outputs": [],
   "source": [
    "from keras.utils import to_categorical\n",
    "y_train = to_categorical(labels_train, 10)\n",
    "y_test = to_categorical(labels_test, 10)"
   ]
  },
  {
   "attachments": {},
   "cell_type": "markdown",
   "metadata": {},
   "source": [
    "# Data augmentation"
   ]
  },
  {
   "cell_type": "code",
   "execution_count": 314,
   "metadata": {},
   "outputs": [],
   "source": [
    "from keras.preprocessing.image import ImageDataGenerator\n",
    "datagen = ImageDataGenerator(\n",
    "    rotation_range=20, \n",
    "    width_shift_range=0.1, \n",
    "    height_shift_range=0.1, \n",
    "    zoom_range=0.1,\n",
    "    horizontal_flip=False,\n",
    "    vertical_flip=False,\n",
    "    fill_mode='nearest')"
   ]
  },
  {
   "attachments": {},
   "cell_type": "markdown",
   "metadata": {},
   "source": [
    "# Define the CNN model"
   ]
  },
  {
   "cell_type": "code",
   "execution_count": 315,
   "metadata": {},
   "outputs": [
    {
     "name": "stdout",
     "output_type": "stream",
     "text": [
      "Model: \"sequential_27\"\n",
      "_________________________________________________________________\n",
      " Layer (type)                Output Shape              Param #   \n",
      "=================================================================\n",
      " conv2d_86 (Conv2D)          (None, 24, 24, 6)         156       \n",
      "                                                                 \n",
      " max_pooling2d_60 (MaxPoolin  (None, 12, 12, 6)        0         \n",
      " g2D)                                                            \n",
      "                                                                 \n",
      " conv2d_87 (Conv2D)          (None, 8, 8, 16)          2416      \n",
      "                                                                 \n",
      " max_pooling2d_61 (MaxPoolin  (None, 4, 4, 16)         0         \n",
      " g2D)                                                            \n",
      "                                                                 \n",
      " flatten_24 (Flatten)        (None, 256)               0         \n",
      "                                                                 \n",
      " dense_53 (Dense)            (None, 120)               30840     \n",
      "                                                                 \n",
      " dense_54 (Dense)            (None, 84)                10164     \n",
      "                                                                 \n",
      " dense_55 (Dense)            (None, 10)                850       \n",
      "                                                                 \n",
      "=================================================================\n",
      "Total params: 44,426\n",
      "Trainable params: 44,426\n",
      "Non-trainable params: 0\n",
      "_________________________________________________________________\n"
     ]
    }
   ],
   "source": [
    "from keras.models import Sequential\n",
    "from keras.layers import Conv2D, MaxPooling2D, Dense, Flatten, BatchNormalization, Dropout\n",
    "model = Sequential()\n",
    "\n",
    "model.add(Conv2D(32, (5, 5), activation='relu', input_shape=(28, 28, 1)))\n",
    "model.add(BatchNormalization())\n",
    "model.add(MaxPooling2D((2, 2)))\n",
    "model.add(Conv2D(64, (5, 5), activation='relu'))\n",
    "model.add(BatchNormalization())\n",
    "model.add(MaxPooling2D((2, 2)))\n",
    "model.add(Flatten())\n",
    "model.add(Dense(256, activation='relu'))\n",
    "model.add(BatchNormalization())\n",
    "model.add(Dropout(0.5))\n",
    "model.add(Dense(128, activation='relu'))\n",
    "model.add(BatchNormalization())\n",
    "model.add(Dropout(0.5))\n",
    "model.add(Dense(10, activation='softmax'))\n",
    "\n",
    "model.summary()"
   ]
  },
  {
   "cell_type": "code",
   "execution_count": 316,
   "metadata": {},
   "outputs": [],
   "source": [
    "model.compile(loss=\"categorical_crossentropy\", optimizer=\"adam\", metrics=['accuracy'])"
   ]
  },
  {
   "cell_type": "markdown",
   "metadata": {},
   "source": [
    "# K-fold cross-validation"
   ]
  },
  {
   "cell_type": "code",
   "execution_count": null,
   "metadata": {},
   "outputs": [],
   "source": [
    "def scheduler(epoch, lr):\n",
    "    if epoch < 5:\n",
    "        return lr\n",
    "    else:\n",
    "        return lr * 0.1"
   ]
  },
  {
   "cell_type": "code",
   "execution_count": 317,
   "metadata": {},
   "outputs": [],
   "source": [
    "from sklearn.model_selection import KFold\n",
    "kfold = KFold(n_splits=5, shuffle=True)"
   ]
  },
  {
   "cell_type": "code",
   "execution_count": 318,
   "metadata": {},
   "outputs": [
    {
     "name": "stdout",
     "output_type": "stream",
     "text": [
      "Fold: 1\n",
      "Epoch 1/10\n"
     ]
    },
    {
     "name": "stderr",
     "output_type": "stream",
     "text": [
      "2023-02-20 12:52:59.316500: I tensorflow/core/grappler/optimizers/custom_graph_optimizer_registry.cc:113] Plugin optimizer for device_type GPU is enabled.\n"
     ]
    },
    {
     "name": "stdout",
     "output_type": "stream",
     "text": [
      "94/94 [==============================] - ETA: 0s - loss: 1.1685 - accuracy: 0.6258"
     ]
    },
    {
     "name": "stderr",
     "output_type": "stream",
     "text": [
      "2023-02-20 12:53:04.414974: I tensorflow/core/grappler/optimizers/custom_graph_optimizer_registry.cc:113] Plugin optimizer for device_type GPU is enabled.\n"
     ]
    },
    {
     "name": "stdout",
     "output_type": "stream",
     "text": [
      "94/94 [==============================] - 9s 89ms/step - loss: 1.1685 - accuracy: 0.6258 - val_loss: 0.2873 - val_accuracy: 0.9175\n",
      "Epoch 2/10\n",
      "94/94 [==============================] - 7s 78ms/step - loss: 0.4293 - accuracy: 0.8698 - val_loss: 0.1707 - val_accuracy: 0.9473\n",
      "Epoch 3/10\n",
      "94/94 [==============================] - 8s 80ms/step - loss: 0.3096 - accuracy: 0.9062 - val_loss: 0.1296 - val_accuracy: 0.9605\n",
      "Epoch 4/10\n",
      "94/94 [==============================] - 8s 83ms/step - loss: 0.2598 - accuracy: 0.9219 - val_loss: 0.1023 - val_accuracy: 0.9680\n",
      "Epoch 5/10\n",
      "94/94 [==============================] - 7s 80ms/step - loss: 0.2208 - accuracy: 0.9337 - val_loss: 0.0910 - val_accuracy: 0.9711\n",
      "Epoch 6/10\n",
      "94/94 [==============================] - 8s 80ms/step - loss: 0.1934 - accuracy: 0.9421 - val_loss: 0.0865 - val_accuracy: 0.9722\n",
      "Epoch 7/10\n",
      "94/94 [==============================] - 7s 78ms/step - loss: 0.1843 - accuracy: 0.9437 - val_loss: 0.0801 - val_accuracy: 0.9747\n",
      "Epoch 8/10\n",
      "94/94 [==============================] - 7s 78ms/step - loss: 0.1705 - accuracy: 0.9489 - val_loss: 0.0749 - val_accuracy: 0.9769\n",
      "Epoch 9/10\n",
      "94/94 [==============================] - 7s 79ms/step - loss: 0.1599 - accuracy: 0.9512 - val_loss: 0.0725 - val_accuracy: 0.9777\n",
      "Epoch 10/10\n",
      "94/94 [==============================] - 7s 78ms/step - loss: 0.1483 - accuracy: 0.9541 - val_loss: 0.0814 - val_accuracy: 0.9752\n"
     ]
    },
    {
     "name": "stderr",
     "output_type": "stream",
     "text": [
      "2023-02-20 12:54:15.613269: I tensorflow/core/grappler/optimizers/custom_graph_optimizer_registry.cc:113] Plugin optimizer for device_type GPU is enabled.\n"
     ]
    },
    {
     "name": "stdout",
     "output_type": "stream",
     "text": [
      " 39/313 [==>...........................] - ETA: 0s"
     ]
    },
    {
     "name": "stderr",
     "output_type": "stream",
     "text": [
      "2023-02-20 12:54:19.125870: I tensorflow/core/grappler/optimizers/custom_graph_optimizer_registry.cc:113] Plugin optimizer for device_type GPU is enabled.\n"
     ]
    },
    {
     "name": "stdout",
     "output_type": "stream",
     "text": [
      "313/313 [==============================] - 1s 3ms/step\n",
      "Accuracy: 0.9748000502586365\n",
      "Loss: 0.0735606774687767\n",
      "Precision: 0.9753899730566772\n",
      "Recall: 0.9743868572247388\n",
      "F1-score: 0.974528129466837\n",
      "Fold: 2\n",
      "Epoch 1/10\n",
      "94/94 [==============================] - 7s 79ms/step - loss: 0.1402 - accuracy: 0.9568 - val_loss: 0.0730 - val_accuracy: 0.9780\n",
      "Epoch 2/10\n",
      "94/94 [==============================] - 7s 79ms/step - loss: 0.1329 - accuracy: 0.9587 - val_loss: 0.0667 - val_accuracy: 0.9791\n",
      "Epoch 3/10\n",
      "94/94 [==============================] - 7s 78ms/step - loss: 0.1311 - accuracy: 0.9603 - val_loss: 0.0961 - val_accuracy: 0.9704\n",
      "Epoch 4/10\n",
      "94/94 [==============================] - 7s 78ms/step - loss: 0.1235 - accuracy: 0.9613 - val_loss: 0.0665 - val_accuracy: 0.9796\n",
      "Epoch 5/10\n",
      "94/94 [==============================] - 7s 78ms/step - loss: 0.1152 - accuracy: 0.9639 - val_loss: 0.0698 - val_accuracy: 0.9788\n",
      "Epoch 6/10\n",
      "94/94 [==============================] - 7s 78ms/step - loss: 0.1113 - accuracy: 0.9648 - val_loss: 0.0564 - val_accuracy: 0.9823\n",
      "Epoch 7/10\n",
      "94/94 [==============================] - 7s 78ms/step - loss: 0.1046 - accuracy: 0.9674 - val_loss: 0.0573 - val_accuracy: 0.9826\n",
      "Epoch 8/10\n",
      "94/94 [==============================] - 7s 78ms/step - loss: 0.1071 - accuracy: 0.9672 - val_loss: 0.0564 - val_accuracy: 0.9828\n",
      "Epoch 9/10\n",
      "94/94 [==============================] - 7s 78ms/step - loss: 0.1016 - accuracy: 0.9690 - val_loss: 0.0517 - val_accuracy: 0.9838\n",
      "Epoch 10/10\n",
      "94/94 [==============================] - 7s 79ms/step - loss: 0.0981 - accuracy: 0.9692 - val_loss: 0.0553 - val_accuracy: 0.9826\n",
      "313/313 [==============================] - 1s 3ms/step\n",
      "Accuracy: 0.9859000444412231\n",
      "Loss: 0.04096703976392746\n",
      "Precision: 0.9859342070869597\n",
      "Recall: 0.9857170148924709\n",
      "F1-score: 0.9857977228463526\n",
      "Fold: 3\n",
      "Epoch 1/10\n",
      "94/94 [==============================] - 7s 78ms/step - loss: 0.0925 - accuracy: 0.9714 - val_loss: 0.0492 - val_accuracy: 0.9857\n",
      "Epoch 2/10\n",
      "94/94 [==============================] - 7s 78ms/step - loss: 0.0899 - accuracy: 0.9727 - val_loss: 0.0469 - val_accuracy: 0.9856\n",
      "Epoch 3/10\n",
      "94/94 [==============================] - 7s 78ms/step - loss: 0.0915 - accuracy: 0.9716 - val_loss: 0.0443 - val_accuracy: 0.9867\n",
      "Epoch 4/10\n",
      "94/94 [==============================] - 7s 79ms/step - loss: 0.0887 - accuracy: 0.9722 - val_loss: 0.0446 - val_accuracy: 0.9865\n",
      "Epoch 5/10\n",
      "94/94 [==============================] - 7s 78ms/step - loss: 0.0888 - accuracy: 0.9723 - val_loss: 0.0464 - val_accuracy: 0.9864\n",
      "Epoch 6/10\n",
      "94/94 [==============================] - 7s 78ms/step - loss: 0.0793 - accuracy: 0.9750 - val_loss: 0.0438 - val_accuracy: 0.9864\n",
      "Epoch 7/10\n",
      "94/94 [==============================] - 8s 80ms/step - loss: 0.0808 - accuracy: 0.9755 - val_loss: 0.0390 - val_accuracy: 0.9872\n",
      "Epoch 8/10\n",
      "94/94 [==============================] - 7s 78ms/step - loss: 0.0814 - accuracy: 0.9746 - val_loss: 0.0422 - val_accuracy: 0.9872\n",
      "Epoch 9/10\n",
      "94/94 [==============================] - 7s 79ms/step - loss: 0.0777 - accuracy: 0.9751 - val_loss: 0.0391 - val_accuracy: 0.9887\n",
      "Epoch 10/10\n",
      "94/94 [==============================] - 7s 79ms/step - loss: 0.0744 - accuracy: 0.9770 - val_loss: 0.0410 - val_accuracy: 0.9871\n",
      "313/313 [==============================] - 1s 3ms/step\n",
      "Accuracy: 0.988800048828125\n",
      "Loss: 0.03388850390911102\n",
      "Precision: 0.9887846314526936\n",
      "Recall: 0.9887078691510075\n",
      "F1-score: 0.988718793616712\n",
      "Fold: 4\n",
      "Epoch 1/10\n",
      "94/94 [==============================] - 7s 79ms/step - loss: 0.0737 - accuracy: 0.9768 - val_loss: 0.0360 - val_accuracy: 0.9890\n",
      "Epoch 2/10\n",
      "94/94 [==============================] - 7s 80ms/step - loss: 0.0719 - accuracy: 0.9770 - val_loss: 0.0396 - val_accuracy: 0.9876\n",
      "Epoch 3/10\n",
      "94/94 [==============================] - 7s 79ms/step - loss: 0.0669 - accuracy: 0.9795 - val_loss: 0.0334 - val_accuracy: 0.9887\n",
      "Epoch 4/10\n",
      "94/94 [==============================] - 7s 77ms/step - loss: 0.0709 - accuracy: 0.9777 - val_loss: 0.0392 - val_accuracy: 0.9875\n",
      "Epoch 5/10\n",
      "94/94 [==============================] - 8s 81ms/step - loss: 0.0716 - accuracy: 0.9781 - val_loss: 0.0376 - val_accuracy: 0.9880\n",
      "Epoch 6/10\n",
      "94/94 [==============================] - 7s 79ms/step - loss: 0.0673 - accuracy: 0.9796 - val_loss: 0.0359 - val_accuracy: 0.9883\n",
      "Epoch 7/10\n",
      "94/94 [==============================] - 7s 79ms/step - loss: 0.0666 - accuracy: 0.9787 - val_loss: 0.0416 - val_accuracy: 0.9874\n",
      "Epoch 8/10\n",
      "94/94 [==============================] - 7s 79ms/step - loss: 0.0643 - accuracy: 0.9799 - val_loss: 0.0400 - val_accuracy: 0.9875\n",
      "313/313 [==============================] - 1s 2ms/step\n",
      "Accuracy: 0.9891000390052795\n",
      "Loss: 0.032578133046627045\n",
      "Precision: 0.989057756447669\n",
      "Recall: 0.9890071012668435\n",
      "F1-score: 0.9890102011396038\n",
      "Fold: 5\n",
      "Epoch 1/10\n",
      "94/94 [==============================] - 7s 79ms/step - loss: 0.0678 - accuracy: 0.9785 - val_loss: 0.0365 - val_accuracy: 0.9878\n",
      "Epoch 2/10\n",
      "94/94 [==============================] - 7s 80ms/step - loss: 0.0644 - accuracy: 0.9795 - val_loss: 0.0335 - val_accuracy: 0.9892\n",
      "Epoch 3/10\n",
      "94/94 [==============================] - 7s 77ms/step - loss: 0.0662 - accuracy: 0.9793 - val_loss: 0.0339 - val_accuracy: 0.9895\n",
      "Epoch 4/10\n",
      "94/94 [==============================] - 8s 82ms/step - loss: 0.0633 - accuracy: 0.9803 - val_loss: 0.0357 - val_accuracy: 0.9883\n",
      "Epoch 5/10\n",
      "94/94 [==============================] - 7s 79ms/step - loss: 0.0608 - accuracy: 0.9812 - val_loss: 0.0351 - val_accuracy: 0.9887\n",
      "Epoch 6/10\n",
      "94/94 [==============================] - 7s 79ms/step - loss: 0.0603 - accuracy: 0.9813 - val_loss: 0.0330 - val_accuracy: 0.9897\n",
      "Epoch 7/10\n",
      "94/94 [==============================] - 7s 80ms/step - loss: 0.0615 - accuracy: 0.9806 - val_loss: 0.0346 - val_accuracy: 0.9897\n",
      "Epoch 8/10\n",
      "94/94 [==============================] - 8s 80ms/step - loss: 0.0592 - accuracy: 0.9813 - val_loss: 0.0363 - val_accuracy: 0.9888\n",
      "Epoch 9/10\n",
      "94/94 [==============================] - 8s 80ms/step - loss: 0.0587 - accuracy: 0.9814 - val_loss: 0.0326 - val_accuracy: 0.9897\n",
      "Epoch 10/10\n",
      "94/94 [==============================] - 8s 81ms/step - loss: 0.0547 - accuracy: 0.9825 - val_loss: 0.0375 - val_accuracy: 0.9878\n",
      "313/313 [==============================] - 1s 3ms/step\n",
      "Accuracy: 0.9902000427246094\n",
      "Loss: 0.03377194702625275\n",
      "Precision: 0.9903602360670286\n",
      "Recall: 0.9899289911974118\n",
      "F1-score: 0.9901075406834978\n",
      "Average accuracy: 0.9857600450515747\n",
      "Average loss: 0.042953260242938995\n",
      "Average precision: 0.9859053608222057\n",
      "Average recall: 0.9855495667464945\n",
      "Average F1-score: 0.9856324775506007\n"
     ]
    }
   ],
   "source": [
    "# Train and evaluate the model with k-fold cross-validation\n",
    "from sklearn.metrics import precision_score, f1_score, recall_score\n",
    "from keras.callbacks import EarlyStopping\n",
    "from keras.callbacks import LearningRateScheduler\n",
    "\n",
    "\n",
    "historys = []\n",
    "accuracies = []\n",
    "losses = []\n",
    "precisions = []\n",
    "f1_scores = []\n",
    "recalls = []\n",
    "\n",
    "for fold, (train_indices, val_indices) in enumerate(kfold.split(x_train)):\n",
    "    print('Fold:', fold+1)\n",
    "    x_train_fold = x_train[train_indices]\n",
    "    y_train_fold = y_train[train_indices]\n",
    "    x_val_fold = x_train[val_indices]\n",
    "    y_val_fold = y_train[val_indices]\n",
    "    \n",
    "    # Fit the model with data augmentation\n",
    "    history = model.fit(datagen.flow(x_train_fold, y_train_fold, batch_size=512),\n",
    "                        epochs=10,\n",
    "                        validation_data=(x_val_fold, y_val_fold),\n",
    "                        callbacks=[EarlyStopping(patience=5), LearningRateScheduler(scheduler)])\n",
    "    \n",
    "    historys.append(history)\n",
    "\n",
    "    # Evaluate the model on the test set\n",
    "    loss, accuracy = model.evaluate(x_test, y_test, verbose=0)\n",
    "    y_pred = np.argmax(model.predict(x_test), axis=1)\n",
    "    y_true = np.argmax(y_test, axis=1)\n",
    "    precision = precision_score(y_true, y_pred, average='macro')\n",
    "    recall = recall_score(y_true, y_pred, average='macro')\n",
    "    f1 = f1_score(y_true, y_pred, average='macro')\n",
    "\n",
    "    print('Accuracy:', accuracy)\n",
    "    print('Loss:', loss)\n",
    "    print('Precision:', precision)\n",
    "    print('Recall:', recall)\n",
    "    print('F1-score:', f1)\n",
    "\n",
    "    accuracies.append(accuracy)\n",
    "    losses.append(loss)\n",
    "    recalls.append(recall)\n",
    "    precisions.append(precision)\n",
    "    f1_scores.append(f1)\n",
    "\n",
    "print('Average accuracy:', np.mean(accuracies))\n",
    "print('Average loss:', np.mean(losses))\n",
    "print('Average precision:', np.mean(precisions))\n",
    "print('Average recall:', np.mean(recalls))\n",
    "print('Average F1-score:', np.mean(f1_scores))"
   ]
  },
  {
   "cell_type": "code",
   "execution_count": 319,
   "metadata": {},
   "outputs": [
    {
     "data": {
      "image/png": "[encoded data removed]",
      "text/plain": [
       "<Figure size 1200x400 with 2 Axes>"
      ]
     },
     "metadata": {},
     "output_type": "display_data"
    }
   ],
   "source": [
    "losses = [loss for history in historys for loss in history.history['loss']]\n",
    "val_losses = [val_loss for history in historys for val_loss in history.history['val_loss']]\n",
    "accuracies = [accuracy for history in historys for accuracy in history.history['accuracy']]\n",
    "val_accuracies = [val_accuracy for history in historys for val_accuracy in history.history['val_accuracy']]\n",
    "\n",
    "epochs = range(1, len(losses) + 1)\n",
    "\n",
    "plt.figure(figsize=(12, 4))\n",
    "plt.subplot(1, 2, 1)\n",
    "plt.plot(epochs, losses, 'b', label='Training loss')\n",
    "plt.plot(epochs, val_losses, 'r', label='Validation loss')\n",
    "plt.title('Training and validation loss')\n",
    "plt.legend()\n",
    "\n",
    "plt.subplot(1, 2, 2)\n",
    "plt.plot(epochs, accuracies, 'b', label='Training accuracy')\n",
    "plt.plot(epochs, val_accuracies, 'r', label='Validation accuracy')\n",
    "plt.title('Training and validation accuracy')\n",
    "plt.legend()\n",
    "\n",
    "plt.show()\n",
    "    "
   ]
  },
  {
   "cell_type": "code",
   "execution_count": 320,
   "metadata": {},
   "outputs": [],
   "source": [
    "model.save(\"network_for_mnist.h5\")"
   ]
  }
 ],
 "metadata": {
  "kernelspec": {
   "display_name": "base",
   "language": "python",
   "name": "python3"
  },
  "language_info": {
   "codemirror_mode": {
    "name": "ipython",
    "version": 3
   },
   "file_extension": ".py",
   "mimetype": "text/x-python",
   "name": "python",
   "nbconvert_exporter": "python",
   "pygments_lexer": "ipython3",
   "version": "3.10.9"
  },
  "orig_nbformat": 4,
  "vscode": {
   "interpreter": {
    "hash": "26da2b8cabb3f0bd9b864593b26ef531e27bad1ea8c7696591d11b0b7428a333"
   }
  }
 },
 "nbformat": 4,
 "nbformat_minor": 2
}
