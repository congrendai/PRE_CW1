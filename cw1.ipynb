{
 "cells": [
  {
   "cell_type": "code",
   "execution_count": 528,
   "metadata": {},
   "outputs": [],
   "source": [
    "import keras\n",
    "import numpy as np\n",
    "import tensorflow as tf\n",
    "from keras.datasets import mnist\n",
    "from matplotlib import pyplot as plt"
   ]
  },
  {
   "cell_type": "code",
   "execution_count": 529,
   "metadata": {},
   "outputs": [],
   "source": [
    "(x_train, labels_train), (x_test, labels_test) = mnist.load_data()"
   ]
  },
  {
   "cell_type": "code",
   "execution_count": 530,
   "metadata": {},
   "outputs": [
    {
     "data": {
      "text/plain": [
       "(array([[[0, 0, 0, ..., 0, 0, 0],\n",
       "         [0, 0, 0, ..., 0, 0, 0],\n",
       "         [0, 0, 0, ..., 0, 0, 0],\n",
       "         ...,\n",
       "         [0, 0, 0, ..., 0, 0, 0],\n",
       "         [0, 0, 0, ..., 0, 0, 0],\n",
       "         [0, 0, 0, ..., 0, 0, 0]],\n",
       " \n",
       "        [[0, 0, 0, ..., 0, 0, 0],\n",
       "         [0, 0, 0, ..., 0, 0, 0],\n",
       "         [0, 0, 0, ..., 0, 0, 0],\n",
       "         ...,\n",
       "         [0, 0, 0, ..., 0, 0, 0],\n",
       "         [0, 0, 0, ..., 0, 0, 0],\n",
       "         [0, 0, 0, ..., 0, 0, 0]],\n",
       " \n",
       "        [[0, 0, 0, ..., 0, 0, 0],\n",
       "         [0, 0, 0, ..., 0, 0, 0],\n",
       "         [0, 0, 0, ..., 0, 0, 0],\n",
       "         ...,\n",
       "         [0, 0, 0, ..., 0, 0, 0],\n",
       "         [0, 0, 0, ..., 0, 0, 0],\n",
       "         [0, 0, 0, ..., 0, 0, 0]],\n",
       " \n",
       "        ...,\n",
       " \n",
       "        [[0, 0, 0, ..., 0, 0, 0],\n",
       "         [0, 0, 0, ..., 0, 0, 0],\n",
       "         [0, 0, 0, ..., 0, 0, 0],\n",
       "         ...,\n",
       "         [0, 0, 0, ..., 0, 0, 0],\n",
       "         [0, 0, 0, ..., 0, 0, 0],\n",
       "         [0, 0, 0, ..., 0, 0, 0]],\n",
       " \n",
       "        [[0, 0, 0, ..., 0, 0, 0],\n",
       "         [0, 0, 0, ..., 0, 0, 0],\n",
       "         [0, 0, 0, ..., 0, 0, 0],\n",
       "         ...,\n",
       "         [0, 0, 0, ..., 0, 0, 0],\n",
       "         [0, 0, 0, ..., 0, 0, 0],\n",
       "         [0, 0, 0, ..., 0, 0, 0]],\n",
       " \n",
       "        [[0, 0, 0, ..., 0, 0, 0],\n",
       "         [0, 0, 0, ..., 0, 0, 0],\n",
       "         [0, 0, 0, ..., 0, 0, 0],\n",
       "         ...,\n",
       "         [0, 0, 0, ..., 0, 0, 0],\n",
       "         [0, 0, 0, ..., 0, 0, 0],\n",
       "         [0, 0, 0, ..., 0, 0, 0]]], dtype=uint8),\n",
       " array([5, 0, 4, ..., 5, 6, 8], dtype=uint8))"
      ]
     },
     "execution_count": 530,
     "metadata": {},
     "output_type": "execute_result"
    }
   ],
   "source": [
    "(x_train, labels_train) = mnist.load_data()\n",
    "x_train"
   ]
  },
  {
   "cell_type": "code",
   "execution_count": 531,
   "metadata": {},
   "outputs": [
    {
     "ename": "AttributeError",
     "evalue": "'tuple' object has no attribute 'astype'",
     "output_type": "error",
     "traceback": [
      "\u001b[0;31m---------------------------------------------------------------------------\u001b[0m",
      "\u001b[0;31mAttributeError\u001b[0m                            Traceback (most recent call last)",
      "Cell \u001b[0;32mIn[531], line 1\u001b[0m\n\u001b[0;32m----> 1\u001b[0m x_train \u001b[39m=\u001b[39m x_train\u001b[39m.\u001b[39;49mastype(\u001b[39m'\u001b[39m\u001b[39mfloat32\u001b[39m\u001b[39m'\u001b[39m) \u001b[39m/\u001b[39m \u001b[39m255\u001b[39m\n\u001b[1;32m      2\u001b[0m x_test \u001b[39m=\u001b[39m x_test\u001b[39m.\u001b[39mastype(\u001b[39m'\u001b[39m\u001b[39mfloat32\u001b[39m\u001b[39m'\u001b[39m) \u001b[39m/\u001b[39m \u001b[39m255\u001b[39m\n\u001b[1;32m      3\u001b[0m x_train\u001b[39m.\u001b[39mshape\n",
      "\u001b[0;31mAttributeError\u001b[0m: 'tuple' object has no attribute 'astype'"
     ]
    }
   ],
   "source": [
    "x_train = x_train.astype('float32') / 255\n",
    "x_test = x_test.astype('float32') / 255\n",
    "x_train.shape"
   ]
  },
  {
   "attachments": {},
   "cell_type": "markdown",
   "metadata": {},
   "source": [
    "# Reshape the data to fit the model"
   ]
  },
  {
   "cell_type": "code",
   "execution_count": null,
   "metadata": {},
   "outputs": [],
   "source": [
    "x_train = x_train.reshape(x_train.shape[0], 28, 28, 1)\n",
    "x_test = x_test.reshape(x_test.shape[0], 28, 28, 1)"
   ]
  },
  {
   "cell_type": "markdown",
   "metadata": {},
   "source": [
    "# One-hot encoding"
   ]
  },
  {
   "cell_type": "code",
   "execution_count": null,
   "metadata": {},
   "outputs": [],
   "source": [
    "from keras.utils import to_categorical\n",
    "y_train = to_categorical(labels_train, 10)\n",
    "y_test = to_categorical(labels_test, 10)"
   ]
  },
  {
   "attachments": {},
   "cell_type": "markdown",
   "metadata": {},
   "source": [
    "# Data augmentation"
   ]
  },
  {
   "cell_type": "code",
   "execution_count": null,
   "metadata": {},
   "outputs": [
    {
     "data": {
      "image/png": "[encoded data removed]",
      "text/plain": [
       "<Figure size 1200x800 with 20 Axes>"
      ]
     },
     "metadata": {},
     "output_type": "display_data"
    }
   ],
   "source": [
    "from keras.preprocessing.image import ImageDataGenerator\n",
    "\n",
    "datagen = ImageDataGenerator(\n",
    "    rotation_range=20, \n",
    "    width_shift_range=0.1, \n",
    "    height_shift_range=0.1, \n",
    "    zoom_range=0.5,\n",
    "    shear_range=0.2,\n",
    "    fill_mode='nearest')\n",
    "\n",
    "#Plots our figures\n",
    "pic = datagen.flow(x_train, batch_size=1024)\n",
    "plt.figure(figsize=(12,8))\n",
    "for i in range(1,21):\n",
    "  plt.subplot(4, 5, i)\n",
    "  batch = pic.next()\n",
    "  image_ = batch[0].astype('float32')\n",
    "  plt.imshow(image_, cmap='gray')\n",
    "plt.show()"
   ]
  },
  {
   "attachments": {},
   "cell_type": "markdown",
   "metadata": {},
   "source": [
    "# Define the CNN model"
   ]
  },
  {
   "cell_type": "code",
   "execution_count": null,
   "metadata": {},
   "outputs": [
    {
     "name": "stdout",
     "output_type": "stream",
     "text": [
      "Model: \"sequential_63\"\n",
      "_________________________________________________________________\n",
      " Layer (type)                Output Shape              Param #   \n",
      "=================================================================\n",
      " conv2d_247 (Conv2D)         (None, 26, 26, 32)        320       \n",
      "                                                                 \n",
      " conv2d_248 (Conv2D)         (None, 24, 24, 64)        18496     \n",
      "                                                                 \n",
      " max_pooling2d_135 (MaxPooli  (None, 12, 12, 64)       0         \n",
      " ng2D)                                                           \n",
      "                                                                 \n",
      " batch_normalization_180 (Ba  (None, 12, 12, 64)       256       \n",
      " tchNormalization)                                               \n",
      "                                                                 \n",
      " dropout_143 (Dropout)       (None, 12, 12, 64)        0         \n",
      "                                                                 \n",
      " conv2d_249 (Conv2D)         (None, 10, 10, 128)       73856     \n",
      "                                                                 \n",
      " conv2d_250 (Conv2D)         (None, 8, 8, 256)         295168    \n",
      "                                                                 \n",
      " max_pooling2d_136 (MaxPooli  (None, 4, 4, 256)        0         \n",
      " ng2D)                                                           \n",
      "                                                                 \n",
      " batch_normalization_181 (Ba  (None, 4, 4, 256)        1024      \n",
      " tchNormalization)                                               \n",
      "                                                                 \n",
      " dropout_144 (Dropout)       (None, 4, 4, 256)         0         \n",
      "                                                                 \n",
      " flatten_56 (Flatten)        (None, 4096)              0         \n",
      "                                                                 \n",
      " dense_160 (Dense)           (None, 512)               2097664   \n",
      "                                                                 \n",
      " dropout_145 (Dropout)       (None, 512)               0         \n",
      "                                                                 \n",
      " dense_161 (Dense)           (None, 256)               131328    \n",
      "                                                                 \n",
      " dropout_146 (Dropout)       (None, 256)               0         \n",
      "                                                                 \n",
      " dense_162 (Dense)           (None, 10)                2570      \n",
      "                                                                 \n",
      "=================================================================\n",
      "Total params: 2,620,682\n",
      "Trainable params: 2,620,042\n",
      "Non-trainable params: 640\n",
      "_________________________________________________________________\n"
     ]
    }
   ],
   "source": [
    "from keras.models import Sequential\n",
    "from keras.layers import Conv2D, MaxPooling2D, Dense, Flatten, BatchNormalization, Dropout\n",
    "\n",
    "model = Sequential()\n",
    "\n",
    "model.add(Conv2D(32, kernel_size=(3, 3), activation='relu', input_shape=(28, 28, 1)))\n",
    "model.add(Conv2D(64, kernel_size=(3, 3), activation='relu'))\n",
    "model.add(MaxPooling2D(pool_size=(2, 2)))\n",
    "model.add(BatchNormalization())\n",
    "model.add(Dropout(0.25))\n",
    "\n",
    "model.add(Conv2D(128, kernel_size=(3, 3), activation='relu'))\n",
    "model.add(Conv2D(256, kernel_size=(3, 3), activation='relu'))\n",
    "model.add(MaxPooling2D(pool_size=(2, 2)))\n",
    "model.add(BatchNormalization())\n",
    "model.add(Dropout(0.25))\n",
    "\n",
    "model.add(Flatten())\n",
    "model.add(Dense(512, activation='relu'))\n",
    "model.add(Dropout(0.5))\n",
    "model.add(Dense(256, activation='relu'))\n",
    "model.add(Dropout(0.5))\n",
    "model.add(Dense(10, activation='softmax'))\n",
    "model.compile(loss=\"categorical_crossentropy\", optimizer=\"adam\", metrics=['accuracy'])\n",
    "\n",
    "model.summary()"
   ]
  },
  {
   "cell_type": "code",
   "execution_count": null,
   "metadata": {},
   "outputs": [
    {
     "name": "stdout",
     "output_type": "stream",
     "text": [
      "Model: \"sequential_64\"\n",
      "_________________________________________________________________\n",
      " Layer (type)                Output Shape              Param #   \n",
      "=================================================================\n",
      " conv2d_251 (Conv2D)         (None, 26, 26, 32)        320       \n",
      "                                                                 \n",
      " conv2d_252 (Conv2D)         (None, 24, 24, 64)        18496     \n",
      "                                                                 \n",
      " max_pooling2d_137 (MaxPooli  (None, 12, 12, 64)       0         \n",
      " ng2D)                                                           \n",
      "                                                                 \n",
      " batch_normalization_182 (Ba  (None, 12, 12, 64)       256       \n",
      " tchNormalization)                                               \n",
      "                                                                 \n",
      " conv2d_253 (Conv2D)         (None, 10, 10, 128)       73856     \n",
      "                                                                 \n",
      " conv2d_254 (Conv2D)         (None, 8, 8, 256)         295168    \n",
      "                                                                 \n",
      " max_pooling2d_138 (MaxPooli  (None, 4, 4, 256)        0         \n",
      " ng2D)                                                           \n",
      "                                                                 \n",
      " batch_normalization_183 (Ba  (None, 4, 4, 256)        1024      \n",
      " tchNormalization)                                               \n",
      "                                                                 \n",
      " conv2d_255 (Conv2D)         (None, 3, 3, 512)         524800    \n",
      "                                                                 \n",
      " max_pooling2d_139 (MaxPooli  (None, 1, 1, 512)        0         \n",
      " ng2D)                                                           \n",
      "                                                                 \n",
      " batch_normalization_184 (Ba  (None, 1, 1, 512)        2048      \n",
      " tchNormalization)                                               \n",
      "                                                                 \n",
      " flatten_57 (Flatten)        (None, 512)               0         \n",
      "                                                                 \n",
      " dense_163 (Dense)           (None, 512)               262656    \n",
      "                                                                 \n",
      " dropout_147 (Dropout)       (None, 512)               0         \n",
      "                                                                 \n",
      " dense_164 (Dense)           (None, 256)               131328    \n",
      "                                                                 \n",
      " dropout_148 (Dropout)       (None, 256)               0         \n",
      "                                                                 \n",
      " dense_165 (Dense)           (None, 128)               32896     \n",
      "                                                                 \n",
      " dropout_149 (Dropout)       (None, 128)               0         \n",
      "                                                                 \n",
      " dense_166 (Dense)           (None, 10)                1290      \n",
      "                                                                 \n",
      "=================================================================\n",
      "Total params: 1,344,138\n",
      "Trainable params: 1,342,474\n",
      "Non-trainable params: 1,664\n",
      "_________________________________________________________________\n"
     ]
    }
   ],
   "source": [
    "model = Sequential()\n",
    "\n",
    "model.add(Conv2D(32, kernel_size=(3, 3), activation='relu', input_shape=(28, 28, 1)))\n",
    "model.add(Conv2D(64, kernel_size=(3, 3), activation='relu'))\n",
    "model.add(MaxPooling2D(pool_size=(2, 2)))\n",
    "model.add(BatchNormalization())\n",
    "model.add(Dropout(0.25))\n",
    "\n",
    "model.add(Conv2D(128, kernel_size=(3, 3), activation='relu'))\n",
    "model.add(Conv2D(256, kernel_size=(3, 3), activation='relu'))\n",
    "model.add(MaxPooling2D(pool_size=(2, 2)))\n",
    "model.add(BatchNormalization())\n",
    "model.add(Dropout(0.25))\n",
    "\n",
    "model.add(Conv2D(512, kernel_size=(2, 2), activation='relu'))\n",
    "model.add(MaxPooling2D(pool_size=(2, 2)))\n",
    "model.add(BatchNormalization())\n",
    "model.add(Dropout(0.25))\n",
    "\n",
    "model.add(Flatten())\n",
    "model.add(Dense(512, activation='relu'))\n",
    "model.add(Dropout(0.5))\n",
    "model.add(Dense(256, activation='relu'))\n",
    "model.add(Dropout(0.5))\n",
    "model.add(Dense(128, activation='relu'))\n",
    "model.add(Dropout(0.5))\n",
    "model.add(Dense(10, activation='softmax'))\n",
    "model.compile(loss=\"categorical_crossentropy\", optimizer=\"adam\", metrics=['accuracy'])\n",
    "\n",
    "model.summary()"
   ]
  },
  {
   "cell_type": "markdown",
   "metadata": {},
   "source": [
    "# K-fold cross-validation"
   ]
  },
  {
   "cell_type": "code",
   "execution_count": null,
   "metadata": {},
   "outputs": [
    {
     "name": "stdout",
     "output_type": "stream",
     "text": [
      "Fold: 1\n",
      "Epoch 1/30\n"
     ]
    },
    {
     "name": "stderr",
     "output_type": "stream",
     "text": [
      "2023-02-21 04:14:45.326101: I tensorflow/core/grappler/optimizers/custom_graph_optimizer_registry.cc:113] Plugin optimizer for device_type GPU is enabled.\n"
     ]
    },
    {
     "name": "stdout",
     "output_type": "stream",
     "text": [
      "12/12 [==============================] - ETA: 0s - loss: 2.1659 - accuracy: 0.2924"
     ]
    },
    {
     "name": "stderr",
     "output_type": "stream",
     "text": [
      "2023-02-21 04:14:53.827775: I tensorflow/core/grappler/optimizers/custom_graph_optimizer_registry.cc:113] Plugin optimizer for device_type GPU is enabled.\n"
     ]
    },
    {
     "name": "stdout",
     "output_type": "stream",
     "text": [
      "12/12 [==============================] - 14s 1s/step - loss: 2.1659 - accuracy: 0.2924 - val_loss: 2.2850 - val_accuracy: 0.1785\n",
      "Epoch 2/30\n",
      "12/12 [==============================] - 12s 1s/step - loss: 1.3095 - accuracy: 0.5667 - val_loss: 2.2451 - val_accuracy: 0.1939\n",
      "Epoch 3/30\n",
      "12/12 [==============================] - 12s 1s/step - loss: 0.8239 - accuracy: 0.7460 - val_loss: 2.2535 - val_accuracy: 0.1783\n",
      "Epoch 4/30\n",
      "12/12 [==============================] - 13s 1s/step - loss: 0.5597 - accuracy: 0.8372 - val_loss: 2.2646 - val_accuracy: 0.1616\n",
      "Epoch 5/30\n",
      "12/12 [==============================] - 13s 1s/step - loss: 0.4271 - accuracy: 0.8790 - val_loss: 2.2709 - val_accuracy: 0.0968\n",
      "Epoch 6/30\n",
      "12/12 [==============================] - 13s 1s/step - loss: 0.3506 - accuracy: 0.9034 - val_loss: 2.2741 - val_accuracy: 0.1892\n",
      "Epoch 7/30\n",
      "12/12 [==============================] - 14s 1s/step - loss: 0.3115 - accuracy: 0.9163 - val_loss: 2.2580 - val_accuracy: 0.0971\n",
      "Fold: 2\n",
      "Epoch 1/30\n",
      "12/12 [==============================] - 13s 1s/step - loss: 0.2771 - accuracy: 0.9249 - val_loss: 2.2395 - val_accuracy: 0.1365\n",
      "Epoch 2/30\n",
      "12/12 [==============================] - 13s 1s/step - loss: 0.2527 - accuracy: 0.9318 - val_loss: 2.2303 - val_accuracy: 0.4188\n",
      "Epoch 3/30\n",
      "12/12 [==============================] - 13s 1s/step - loss: 0.2307 - accuracy: 0.9383 - val_loss: 2.2554 - val_accuracy: 0.1892\n",
      "Epoch 4/30\n",
      "12/12 [==============================] - 13s 1s/step - loss: 0.2141 - accuracy: 0.9430 - val_loss: 2.2473 - val_accuracy: 0.1621\n",
      "Epoch 5/30\n",
      "12/12 [==============================] - 12s 1s/step - loss: 0.1997 - accuracy: 0.9461 - val_loss: 2.2305 - val_accuracy: 0.1118\n",
      "Epoch 6/30\n",
      "12/12 [==============================] - 13s 1s/step - loss: 0.1981 - accuracy: 0.9489 - val_loss: 2.1887 - val_accuracy: 0.1065\n",
      "Epoch 7/30\n",
      "12/12 [==============================] - 12s 1s/step - loss: 0.1812 - accuracy: 0.9517 - val_loss: 2.1987 - val_accuracy: 0.1076\n",
      "Epoch 8/30\n",
      "12/12 [==============================] - 13s 1s/step - loss: 0.1744 - accuracy: 0.9529 - val_loss: 2.2979 - val_accuracy: 0.0987\n",
      "Epoch 9/30\n",
      "12/12 [==============================] - 12s 983ms/step - loss: 0.1683 - accuracy: 0.9544 - val_loss: 2.1892 - val_accuracy: 0.3877\n",
      "Epoch 10/30\n",
      "12/12 [==============================] - 13s 1s/step - loss: 0.1637 - accuracy: 0.9567 - val_loss: 2.1975 - val_accuracy: 0.3919\n",
      "Epoch 11/30\n",
      "12/12 [==============================] - 12s 997ms/step - loss: 0.1524 - accuracy: 0.9594 - val_loss: 2.1305 - val_accuracy: 0.2653\n",
      "Epoch 12/30\n",
      "12/12 [==============================] - 12s 994ms/step - loss: 0.1507 - accuracy: 0.9602 - val_loss: 2.1753 - val_accuracy: 0.1357\n",
      "Epoch 13/30\n",
      "12/12 [==============================] - 12s 1s/step - loss: 0.1413 - accuracy: 0.9614 - val_loss: 2.1441 - val_accuracy: 0.3298\n",
      "Epoch 14/30\n",
      "12/12 [==============================] - 12s 985ms/step - loss: 0.1454 - accuracy: 0.9620 - val_loss: 2.0963 - val_accuracy: 0.2760\n",
      "Epoch 15/30\n",
      "12/12 [==============================] - 12s 1s/step - loss: 0.1421 - accuracy: 0.9634 - val_loss: 2.0843 - val_accuracy: 0.3609\n",
      "Epoch 16/30\n",
      "12/12 [==============================] - 12s 1s/step - loss: 0.1367 - accuracy: 0.9634 - val_loss: 2.1282 - val_accuracy: 0.2963\n",
      "Epoch 17/30\n",
      "12/12 [==============================] - 12s 1s/step - loss: 0.1376 - accuracy: 0.9642 - val_loss: 1.9915 - val_accuracy: 0.2937\n",
      "Epoch 18/30\n",
      "12/12 [==============================] - 12s 1s/step - loss: 0.1299 - accuracy: 0.9653 - val_loss: 1.8965 - val_accuracy: 0.4311\n",
      "Epoch 19/30\n",
      "12/12 [==============================] - 12s 1s/step - loss: 0.1206 - accuracy: 0.9678 - val_loss: 1.8139 - val_accuracy: 0.4479\n",
      "Epoch 20/30\n",
      "12/12 [==============================] - 13s 1s/step - loss: 0.1192 - accuracy: 0.9676 - val_loss: 1.8697 - val_accuracy: 0.3922\n",
      "Epoch 21/30\n",
      "12/12 [==============================] - 12s 1s/step - loss: 0.1206 - accuracy: 0.9675 - val_loss: 1.7658 - val_accuracy: 0.4576\n",
      "Epoch 22/30\n",
      "12/12 [==============================] - 12s 1s/step - loss: 0.1205 - accuracy: 0.9683 - val_loss: 1.7602 - val_accuracy: 0.3142\n",
      "Epoch 23/30\n",
      "12/12 [==============================] - 12s 1s/step - loss: 0.1167 - accuracy: 0.9691 - val_loss: 1.7171 - val_accuracy: 0.4932\n",
      "Epoch 24/30\n",
      "12/12 [==============================] - 12s 991ms/step - loss: 0.1121 - accuracy: 0.9696 - val_loss: 1.6627 - val_accuracy: 0.5192\n",
      "Epoch 25/30\n",
      "12/12 [==============================] - 12s 991ms/step - loss: 0.1145 - accuracy: 0.9686 - val_loss: 1.4147 - val_accuracy: 0.5099\n",
      "Epoch 26/30\n",
      "12/12 [==============================] - 12s 990ms/step - loss: 0.1117 - accuracy: 0.9709 - val_loss: 1.3528 - val_accuracy: 0.5266\n",
      "Epoch 27/30\n",
      "12/12 [==============================] - 12s 1s/step - loss: 0.1067 - accuracy: 0.9704 - val_loss: 1.3197 - val_accuracy: 0.5637\n",
      "Epoch 28/30\n",
      "12/12 [==============================] - 12s 1s/step - loss: 0.1048 - accuracy: 0.9716 - val_loss: 1.2694 - val_accuracy: 0.5738\n",
      "Epoch 29/30\n",
      "12/12 [==============================] - 12s 1s/step - loss: 0.1011 - accuracy: 0.9732 - val_loss: 0.9692 - val_accuracy: 0.7347\n",
      "Epoch 30/30\n",
      "12/12 [==============================] - 12s 1s/step - loss: 0.0959 - accuracy: 0.9745 - val_loss: 0.8167 - val_accuracy: 0.8211\n",
      "Fold: 3\n",
      "Epoch 1/30\n",
      "12/12 [==============================] - 12s 1s/step - loss: 0.1030 - accuracy: 0.9724 - val_loss: 0.9156 - val_accuracy: 0.7578\n",
      "Epoch 2/30\n",
      "12/12 [==============================] - 13s 1s/step - loss: 0.1024 - accuracy: 0.9729 - val_loss: 0.6100 - val_accuracy: 0.8928\n",
      "Epoch 3/30\n",
      "12/12 [==============================] - 12s 1s/step - loss: 0.0963 - accuracy: 0.9730 - val_loss: 0.5846 - val_accuracy: 0.8645\n",
      "Epoch 4/30\n",
      "12/12 [==============================] - 12s 1s/step - loss: 0.0999 - accuracy: 0.9725 - val_loss: 0.4491 - val_accuracy: 0.9303\n",
      "Epoch 5/30\n",
      "12/12 [==============================] - 12s 1s/step - loss: 0.0953 - accuracy: 0.9742 - val_loss: 0.4173 - val_accuracy: 0.9283\n",
      "Epoch 6/30\n",
      "12/12 [==============================] - 12s 990ms/step - loss: 0.0972 - accuracy: 0.9732 - val_loss: 0.4336 - val_accuracy: 0.8869\n",
      "Epoch 7/30\n",
      "12/12 [==============================] - 12s 1s/step - loss: 0.0987 - accuracy: 0.9737 - val_loss: 0.2708 - val_accuracy: 0.9567\n",
      "Epoch 8/30\n",
      "12/12 [==============================] - 12s 991ms/step - loss: 0.0908 - accuracy: 0.9758 - val_loss: 0.2431 - val_accuracy: 0.9549\n",
      "Epoch 9/30\n",
      "12/12 [==============================] - 12s 1s/step - loss: 0.0889 - accuracy: 0.9769 - val_loss: 0.2262 - val_accuracy: 0.9500\n",
      "Epoch 10/30\n",
      "12/12 [==============================] - 12s 1s/step - loss: 0.0905 - accuracy: 0.9755 - val_loss: 0.1108 - val_accuracy: 0.9757\n",
      "Epoch 11/30\n",
      "12/12 [==============================] - 13s 1s/step - loss: 0.0880 - accuracy: 0.9754 - val_loss: 0.0632 - val_accuracy: 0.9877\n",
      "Epoch 12/30\n",
      "12/12 [==============================] - 13s 1s/step - loss: 0.0856 - accuracy: 0.9772 - val_loss: 0.1078 - val_accuracy: 0.9749\n",
      "Epoch 13/30\n",
      "12/12 [==============================] - 13s 1s/step - loss: 0.0833 - accuracy: 0.9776 - val_loss: 0.0419 - val_accuracy: 0.9894\n",
      "Epoch 14/30\n",
      "12/12 [==============================] - 12s 1s/step - loss: 0.0871 - accuracy: 0.9765 - val_loss: 0.0902 - val_accuracy: 0.9743\n",
      "Epoch 15/30\n",
      "12/12 [==============================] - 12s 1s/step - loss: 0.0810 - accuracy: 0.9777 - val_loss: 0.0508 - val_accuracy: 0.9851\n",
      "Epoch 16/30\n",
      "12/12 [==============================] - 12s 1s/step - loss: 0.0849 - accuracy: 0.9754 - val_loss: 0.1511 - val_accuracy: 0.9584\n",
      "Epoch 17/30\n",
      "12/12 [==============================] - 12s 1s/step - loss: 0.0858 - accuracy: 0.9768 - val_loss: 0.0385 - val_accuracy: 0.9902\n",
      "Epoch 18/30\n",
      "12/12 [==============================] - 12s 1s/step - loss: 0.0837 - accuracy: 0.9771 - val_loss: 0.0393 - val_accuracy: 0.9897\n",
      "Epoch 19/30\n",
      "12/12 [==============================] - 13s 1s/step - loss: 0.0831 - accuracy: 0.9779 - val_loss: 0.0339 - val_accuracy: 0.9909\n",
      "Epoch 20/30\n",
      "12/12 [==============================] - 12s 1s/step - loss: 0.0829 - accuracy: 0.9772 - val_loss: 0.0302 - val_accuracy: 0.9912\n",
      "Epoch 21/30\n",
      "12/12 [==============================] - 12s 1s/step - loss: 0.0795 - accuracy: 0.9782 - val_loss: 0.0365 - val_accuracy: 0.9906\n",
      "Epoch 22/30\n",
      "12/12 [==============================] - 12s 1s/step - loss: 0.0795 - accuracy: 0.9782 - val_loss: 0.0333 - val_accuracy: 0.9907\n",
      "Epoch 23/30\n",
      "12/12 [==============================] - 12s 1s/step - loss: 0.0799 - accuracy: 0.9784 - val_loss: 0.0431 - val_accuracy: 0.9888\n",
      "Epoch 24/30\n",
      "12/12 [==============================] - 12s 1s/step - loss: 0.0747 - accuracy: 0.9793 - val_loss: 0.0364 - val_accuracy: 0.9901\n",
      "Epoch 25/30\n",
      "12/12 [==============================] - 12s 1s/step - loss: 0.0761 - accuracy: 0.9791 - val_loss: 0.0281 - val_accuracy: 0.9922\n",
      "Epoch 26/30\n",
      "12/12 [==============================] - 12s 1s/step - loss: 0.0736 - accuracy: 0.9794 - val_loss: 0.0393 - val_accuracy: 0.9882\n",
      "Epoch 27/30\n",
      "12/12 [==============================] - 13s 1s/step - loss: 0.0773 - accuracy: 0.9792 - val_loss: 0.0522 - val_accuracy: 0.9857\n",
      "Epoch 28/30\n",
      "12/12 [==============================] - 12s 1s/step - loss: 0.0731 - accuracy: 0.9800 - val_loss: 0.0397 - val_accuracy: 0.9882\n",
      "Epoch 29/30\n",
      "12/12 [==============================] - 12s 1s/step - loss: 0.0742 - accuracy: 0.9800 - val_loss: 0.0403 - val_accuracy: 0.9892\n",
      "Epoch 30/30\n",
      "12/12 [==============================] - 12s 1s/step - loss: 0.0738 - accuracy: 0.9803 - val_loss: 0.0483 - val_accuracy: 0.9866\n",
      "Fold: 4\n",
      "Epoch 1/30\n",
      "12/12 [==============================] - 13s 1s/step - loss: 0.0766 - accuracy: 0.9790 - val_loss: 0.0402 - val_accuracy: 0.9872\n",
      "Epoch 2/30\n",
      "12/12 [==============================] - 13s 1s/step - loss: 0.0771 - accuracy: 0.9785 - val_loss: 0.0429 - val_accuracy: 0.9869\n",
      "Epoch 3/30\n",
      "12/12 [==============================] - 12s 1s/step - loss: 0.0722 - accuracy: 0.9802 - val_loss: 0.0470 - val_accuracy: 0.9864\n",
      "Epoch 4/30\n",
      "12/12 [==============================] - 12s 1s/step - loss: 0.0764 - accuracy: 0.9799 - val_loss: 0.0770 - val_accuracy: 0.9774\n",
      "Epoch 5/30\n",
      "12/12 [==============================] - 13s 1s/step - loss: 0.0736 - accuracy: 0.9799 - val_loss: 0.0355 - val_accuracy: 0.9886\n",
      "Epoch 6/30\n",
      "12/12 [==============================] - 13s 1s/step - loss: 0.0720 - accuracy: 0.9801 - val_loss: 0.0290 - val_accuracy: 0.9903\n",
      "Epoch 7/30\n",
      "12/12 [==============================] - 12s 1s/step - loss: 0.0720 - accuracy: 0.9796 - val_loss: 0.0306 - val_accuracy: 0.9910\n",
      "Epoch 8/30\n",
      "12/12 [==============================] - 13s 1s/step - loss: 0.0724 - accuracy: 0.9798 - val_loss: 0.0395 - val_accuracy: 0.9877\n",
      "Epoch 9/30\n",
      "12/12 [==============================] - 12s 1s/step - loss: 0.0706 - accuracy: 0.9804 - val_loss: 0.0238 - val_accuracy: 0.9929\n",
      "Epoch 10/30\n",
      "12/12 [==============================] - 13s 1s/step - loss: 0.0710 - accuracy: 0.9803 - val_loss: 0.0543 - val_accuracy: 0.9848\n",
      "Epoch 11/30\n",
      "12/12 [==============================] - 12s 985ms/step - loss: 0.0717 - accuracy: 0.9804 - val_loss: 0.0215 - val_accuracy: 0.9937\n",
      "Epoch 12/30\n",
      "12/12 [==============================] - 12s 1s/step - loss: 0.0727 - accuracy: 0.9805 - val_loss: 0.0269 - val_accuracy: 0.9922\n",
      "Epoch 13/30\n",
      "12/12 [==============================] - 12s 1s/step - loss: 0.0701 - accuracy: 0.9817 - val_loss: 0.0378 - val_accuracy: 0.9895\n",
      "Epoch 14/30\n",
      "12/12 [==============================] - 12s 988ms/step - loss: 0.0721 - accuracy: 0.9811 - val_loss: 0.0369 - val_accuracy: 0.9907\n",
      "Epoch 15/30\n",
      "12/12 [==============================] - 12s 1s/step - loss: 0.0656 - accuracy: 0.9814 - val_loss: 0.0242 - val_accuracy: 0.9936\n",
      "Epoch 16/30\n",
      "12/12 [==============================] - 12s 1s/step - loss: 0.0674 - accuracy: 0.9813 - val_loss: 0.0251 - val_accuracy: 0.9927\n",
      "Fold: 5\n",
      "Epoch 1/30\n",
      "12/12 [==============================] - 12s 1s/step - loss: 0.0680 - accuracy: 0.9813 - val_loss: 0.0614 - val_accuracy: 0.9822\n",
      "Epoch 2/30\n",
      "12/12 [==============================] - 12s 989ms/step - loss: 0.0657 - accuracy: 0.9815 - val_loss: 0.0310 - val_accuracy: 0.9908\n",
      "Epoch 3/30\n",
      "12/12 [==============================] - 12s 997ms/step - loss: 0.0630 - accuracy: 0.9825 - val_loss: 0.0321 - val_accuracy: 0.9906\n",
      "Epoch 4/30\n",
      "12/12 [==============================] - 12s 1s/step - loss: 0.0665 - accuracy: 0.9816 - val_loss: 0.0311 - val_accuracy: 0.9905\n",
      "Epoch 5/30\n",
      "12/12 [==============================] - 12s 1s/step - loss: 0.0671 - accuracy: 0.9813 - val_loss: 0.0442 - val_accuracy: 0.9879\n",
      "Epoch 6/30\n",
      "12/12 [==============================] - 12s 1s/step - loss: 0.0654 - accuracy: 0.9816 - val_loss: 0.0342 - val_accuracy: 0.9893\n",
      "Epoch 7/30\n",
      "12/12 [==============================] - 12s 1s/step - loss: 0.0679 - accuracy: 0.9815 - val_loss: 0.0283 - val_accuracy: 0.9914\n",
      "Epoch 8/30\n",
      "12/12 [==============================] - 12s 996ms/step - loss: 0.0631 - accuracy: 0.9824 - val_loss: 0.0534 - val_accuracy: 0.9847\n",
      "Epoch 9/30\n",
      "12/12 [==============================] - 12s 988ms/step - loss: 0.0655 - accuracy: 0.9824 - val_loss: 0.0375 - val_accuracy: 0.9887\n",
      "Epoch 10/30\n",
      "12/12 [==============================] - 12s 1s/step - loss: 0.0645 - accuracy: 0.9820 - val_loss: 0.0283 - val_accuracy: 0.9918\n",
      "Epoch 11/30\n",
      "12/12 [==============================] - 12s 995ms/step - loss: 0.0608 - accuracy: 0.9833 - val_loss: 0.0542 - val_accuracy: 0.9850\n",
      "Epoch 12/30\n",
      "12/12 [==============================] - 12s 971ms/step - loss: 0.0632 - accuracy: 0.9827 - val_loss: 0.0367 - val_accuracy: 0.9893\n"
     ]
    }
   ],
   "source": [
    "# Train and evaluate the model with k-fold cross-validation\n",
    "from sklearn.model_selection import KFold\n",
    "from keras.callbacks import EarlyStopping\n",
    "\n",
    "historys = []\n",
    "\n",
    "batch_size = 4096\n",
    "epochs = 30\n",
    "n_splits = 5\n",
    "\n",
    "kfold = KFold(n_splits=n_splits, shuffle=True)\n",
    "\n",
    "for fold, (train_indices, val_indices) in enumerate(kfold.split(x_train)):\n",
    "    print('Fold:', fold+1)\n",
    "    x_train_fold = x_train[train_indices]\n",
    "    y_train_fold = y_train[train_indices]\n",
    "    x_val_fold = x_train[val_indices]\n",
    "    y_val_fold = y_train[val_indices]\n",
    "    \n",
    "    # Fit the model with data augmentation\n",
    "    history = model.fit(datagen.flow(x_train_fold, y_train_fold, batch_size=batch_size),\n",
    "                        epochs=epochs,\n",
    "                        validation_data=(x_val_fold, y_val_fold),\n",
    "                        callbacks=[EarlyStopping(patience=5)])\n",
    "    \n",
    "    historys.append(history)"
   ]
  },
  {
   "cell_type": "code",
   "execution_count": null,
   "metadata": {},
   "outputs": [
    {
     "data": {
      "image/png": "[encoded data removed]",
      "text/plain": [
       "<Figure size 1200x400 with 2 Axes>"
      ]
     },
     "metadata": {},
     "output_type": "display_data"
    }
   ],
   "source": [
    "losses = [loss for history in historys for loss in history.history['loss']]\n",
    "val_losses = [val_loss for history in historys for val_loss in history.history['val_loss']]\n",
    "accuracies = [accuracy for history in historys for accuracy in history.history['accuracy']]\n",
    "val_accuracies = [val_accuracy for history in historys for val_accuracy in history.history['val_accuracy']]\n",
    "\n",
    "epochs = range(1, len(losses) + 1)\n",
    "\n",
    "plt.figure(figsize=(12, 4))\n",
    "plt.subplot(1, 2, 1)\n",
    "plt.plot(epochs, losses, 'b', label='Training loss')\n",
    "plt.plot(epochs, val_losses, 'r', label='Validation loss')\n",
    "plt.title('Training and validation loss')\n",
    "plt.legend()\n",
    "\n",
    "plt.subplot(1, 2, 2)\n",
    "plt.plot(epochs, accuracies, 'b', label='Training accuracy')\n",
    "plt.plot(epochs, val_accuracies, 'r', label='Validation accuracy')\n",
    "plt.title('Training and validation accuracy')\n",
    "plt.legend()\n",
    "\n",
    "plt.show()\n",
    "    "
   ]
  },
  {
   "cell_type": "code",
   "execution_count": null,
   "metadata": {},
   "outputs": [],
   "source": [
    "model.save(\"network_for_mnist.h5\")"
   ]
  }
 ],
 "metadata": {
  "kernelspec": {
   "display_name": "base",
   "language": "python",
   "name": "python3"
  },
  "language_info": {
   "codemirror_mode": {
    "name": "ipython",
    "version": 3
   },
   "file_extension": ".py",
   "mimetype": "text/x-python",
   "name": "python",
   "nbconvert_exporter": "python",
   "pygments_lexer": "ipython3",
   "version": "3.10.9"
  },
  "orig_nbformat": 4,
  "vscode": {
   "interpreter": {
    "hash": "26da2b8cabb3f0bd9b864593b26ef531e27bad1ea8c7696591d11b0b7428a333"
   }
  }
 },
 "nbformat": 4,
 "nbformat_minor": 2
}
